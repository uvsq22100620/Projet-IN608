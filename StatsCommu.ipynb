{
 "cells": [
  {
   "cell_type": "code",
   "execution_count": 31,
   "metadata": {},
   "outputs": [],
   "source": [
    "def construction_dico_genes():\n",
    "    fic = open('table_gene.txt', 'r')\n",
    "    dico = {}\n",
    "    for ligne in fic:\n",
    "        g = ligne.split()\n",
    "        dico[g[0]] = g[1]\n",
    "    fic.close()\n",
    "    return dico\n",
    "\n",
    "def construction_dico_pathways():\n",
    "    fic = open('table_pathway.txt', 'r')\n",
    "    dico = {}\n",
    "    for ligne in fic:\n",
    "        g = ligne.split(';')\n",
    "        dico[g[0]] = g[1][:-1]\n",
    "    fic.close()\n",
    "    return dico\n",
    "\n",
    "def construction_dico_localisations():\n",
    "    fic = open('table_localisation.txt', 'r')\n",
    "    dico = {}\n",
    "    for ligne in fic:\n",
    "        ligne = ligne[:-1]\n",
    "        g = ligne.split(';')\n",
    "        dico[g[0]] = g[1:]\n",
    "    fic.close()\n",
    "    return dico"
   ]
  },
  {
   "cell_type": "code",
   "execution_count": 37,
   "metadata": {},
   "outputs": [],
   "source": [
    "dico_genes = construction_dico_genes()\n",
    "dico_pathways = construction_dico_pathways()\n",
    "dico_localisations = construction_dico_localisations()"
   ]
  },
  {
   "cell_type": "code",
   "execution_count": 34,
   "metadata": {},
   "outputs": [],
   "source": [
    "import pandas as pd"
   ]
  },
  {
   "cell_type": "code",
   "execution_count": 46,
   "metadata": {},
   "outputs": [],
   "source": [
    "def enum_loc():\n",
    "    loc = dico_localisations.values()\n",
    "    localisations = []\n",
    "    for l in loc:\n",
    "        for ll in l:\n",
    "            localisations.append(ll)\n",
    "    localisations = set(localisations)\n",
    "    return localisations\n",
    "\n",
    "localisations = enum_loc()"
   ]
  },
  {
   "cell_type": "code",
   "execution_count": 47,
   "metadata": {},
   "outputs": [],
   "source": [
    "def stats_localisations():\n",
    "    loc = enum_loc()"
   ]
  },
  {
   "cell_type": "code",
   "execution_count": 48,
   "metadata": {},
   "outputs": [
    {
     "name": "stdout",
     "output_type": "stream",
     "text": [
      "35\n"
     ]
    }
   ],
   "source": [
    "stats_localisations()"
   ]
  },
  {
   "cell_type": "code",
   "execution_count": null,
   "metadata": {},
   "outputs": [],
   "source": []
  }
 ],
 "metadata": {
  "kernelspec": {
   "display_name": "base",
   "language": "python",
   "name": "python3"
  },
  "language_info": {
   "codemirror_mode": {
    "name": "ipython",
    "version": 3
   },
   "file_extension": ".py",
   "mimetype": "text/x-python",
   "name": "python",
   "nbconvert_exporter": "python",
   "pygments_lexer": "ipython3",
   "version": "3.9.10"
  }
 },
 "nbformat": 4,
 "nbformat_minor": 2
}
