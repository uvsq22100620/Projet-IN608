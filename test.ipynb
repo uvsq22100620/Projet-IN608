{
 "cells": [
  {
   "cell_type": "code",
   "execution_count": 1,
   "id": "f5eebc3c",
   "metadata": {},
   "outputs": [],
   "source": [
    "import pandas as pd"
   ]
  },
  {
   "cell_type": "code",
   "execution_count": 10,
   "id": "35135861",
   "metadata": {},
   "outputs": [],
   "source": [
    "G = {\n",
    "    'A': {('B', 1)},\n",
    "    'B': {('A', 1), ('C', 1)},\n",
    "    'C': {('B', 1), ('D', 1), ('E', 1)},\n",
    "    'D': {('C', 1), ('E', 1), ('I', 1)},\n",
    "    'E': {('C', 1), ('D', 1), ('F', 1), ('H', 1)},\n",
    "    'F': {('E', 1), ('G', 1), ('R', 1)},\n",
    "    'G': {('F', 1), ('H', 1), ('T', 1)},\n",
    "    'H': {('E', 1), ('G', 1), ('J', 1)},\n",
    "    'I': {('D', 1)},\n",
    "    'J': {('H', 1), ('K', 1), ('L', 1)},\n",
    "    'K': {('J', 1), ('L', 1)},\n",
    "    'L': {('J', 1), ('K', 1), ('M', 1)},\n",
    "    'M': {('L', 1), ('O', 1), ('R', 1), ('T', 1)},\n",
    "    'N': {('O', 1), ('P', 1), ('Q', 1), ('T', 1)},\n",
    "    'O': {('M', 1), ('N', 1), ('P', 1)},\n",
    "    'P': {('N', 1), ('O', 1), ('Q', 1), ('R', 1)},\n",
    "    'Q': {('N', 1), ('P', 1), ('R', 1), ('S', 1), ('U', 1)},\n",
    "    'R': {('F', 1), ('M', 1), ('P', 1), ('Q', 1), ('S', 1)},\n",
    "    'S': {('Q', 1), ('R', 1), ('T', 1), ('U', 1)},\n",
    "    'T': {('G', 1), ('M', 1), ('N', 1), ('S', 1), ('U', 1)},\n",
    "    'U': {('Q', 1), ('S', 1), ('T', 1)}}\n",
    "\n",
    "G = {\n",
    "    'A': {('C', 1), ('D', 1), ('E', 1), ('F', 1)},\n",
    "    'B': {('C', 1), ('E', 1), ('H', 1)},\n",
    "    'C': {('A', 1), ('B', 1), ('E', 1), ('F', 1), ('G', 1)},\n",
    "    'D': {('A', 1), ('H', 1)},\n",
    "    'E': {('A', 1), ('B', 1), ('C', 1), ('K', 1)},\n",
    "    'F': {('A', 1), ('C', 1), ('H', 1), ('L', 1)},\n",
    "    'G': {('C', 1), ('H', 1), ('L', 1)},\n",
    "    'H': {('B', 1), ('D', 1), ('F', 1), ('G', 1)},\n",
    "    'I': {('J', 1), ('K', 1), ('L', 1), ('O', 1), ('P', 1)},\n",
    "    'J': {('I', 1), ('M', 1), ('O', 1)},\n",
    "    'K': {('E', 1), ('I', 1), ('L', 1), ('M', 1), ('N', 1), ('O', 1)},\n",
    "    'L': {('F', 1), ('G', 1), ('I', 1), ('K', 1), ('N', 1)},\n",
    "    'M': {('J', 1), ('K', 1)},\n",
    "    'N': {('K', 1), ('L', 1)},\n",
    "    'O': {('I', 1), ('J', 1), ('K', 1)},\n",
    "    'P': {('I', 1)}}"
   ]
  },
  {
   "cell_type": "code",
   "execution_count": 16,
   "id": "480ba271",
   "metadata": {},
   "outputs": [],
   "source": [
    "def Louvain(graphe, gamma=1):\n",
    "    \n",
    "    if len(graphe) == 1:\n",
    "        return graphe\n",
    "    \n",
    "    def gain_modularite(sommet, voisin, graphe, clusters, correspondance, gamma):\n",
    "        \n",
    "        sin = 0\n",
    "        for s1 in clusters[correspondance[voisin]]:\n",
    "            sin += sum(list(arete[1] for arete in graphe[s1] if arete[0] in clusters[correspondance[voisin]]))\n",
    "        sin = sin/2\n",
    "        \n",
    "        stot = 0\n",
    "        for s1 in set(graphe.keys()).difference(clusters[correspondance[voisin]]):\n",
    "            stot += sum(list(arete[1] for arete in graphe[s1] if arete[0] in clusters[correspondance[voisin]]))\n",
    "        stot += sin\n",
    "            \n",
    "        ki = sum(list(arete[1] for arete in graphe[sommet]))\n",
    "        ki_in = sum(list(arete[1] for arete in graphe[sommet] if arete[0] in clusters[correspondance[voisin]]))\n",
    "        \n",
    "        m = 0\n",
    "        for s1 in graphe:\n",
    "            m += sum(list(arete[1] for arete in graphe[s1]))\n",
    "        m /= 2\n",
    "        \n",
    "        p1 = (ki_in/(2*m))\n",
    "        p2 = gamma*((stot*ki)/(2*(m**2)))\n",
    "        \n",
    "        return p1-p2\n",
    "    \n",
    "    def contraction(sommet, voisin, graphe):\n",
    "\n",
    "        sf = f\"{sommet}/{voisin}\"\n",
    "        nouveau_graphe = graphe.copy()\n",
    "\n",
    "        for s in graphe:\n",
    "            nouveau_graphe[s] = {arete for arete in graphe[s] if arete[0] not in {sommet, voisin}}\n",
    "        del nouveau_graphe[sommet], nouveau_graphe[voisin]\n",
    "\n",
    "        for s in nouveau_graphe:\n",
    "            nouveau_graphe[s] = nouveau_graphe[s].union({(sf, sum(list(map(lambda arete: arete[1], {arete for arete in graphe[s] if arete[0] in {sommet, voisin}}))))})\n",
    "            nouveau_graphe[s] = {(v, poids) for v, poids in nouveau_graphe[s] if poids > 0}\n",
    "\n",
    "        nouveau_graphe[sf] = set()    \n",
    "\n",
    "        for s in nouveau_graphe:\n",
    "            nouveau_graphe[sf] = nouveau_graphe[sf].union({(s, arete[1]) for arete in nouveau_graphe[s] if arete[0] == sf})\n",
    "\n",
    "        nouveau_graphe[sf] = nouveau_graphe[sf].union(({(sf, sum(list(map(lambda arete: arete[1], {arete for arete in graphe[sommet].union(graphe[voisin]) if arete[0] in {sommet, voisin}}))))}))\n",
    "        nouveau_graphe[sf] = {(v, poids) for v, poids in nouveau_graphe[sf] if poids > 0}\n",
    "\n",
    "        return nouveau_graphe\n",
    "        \n",
    "    correspondance = {sommet: indice for indice, sommet in enumerate(graphe.keys())}\n",
    "    clusters = {indice: {sommet} for indice, sommet in enumerate(graphe.keys())}\n",
    "    \n",
    "    changement = True\n",
    "    precedent = -1\n",
    "    cpt = 0\n",
    "    \n",
    "    while changement:\n",
    "        \n",
    "        changement = False\n",
    "    \n",
    "        for sommet in graphe:\n",
    "            max_local, attracteur = -1, -1\n",
    "            for arete in graphe[sommet]:\n",
    "                \n",
    "                if arete[0] != sommet:\n",
    "\n",
    "                    delta_q = gain_modularite(sommet, arete[0], graphe, clusters, correspondance, gamma)\n",
    "\n",
    "                    if delta_q > max_local:\n",
    "                        max_local, attracteur = delta_q, arete[0]\n",
    "                    \n",
    "            if max_local > 1e-07 and correspondance[sommet] != correspondance[attracteur] and precedent != sommet:\n",
    "                cpt += 1\n",
    "                changement = True\n",
    "                precedent = sommet\n",
    "                clusters[correspondance[sommet]] = clusters[correspondance[sommet]].difference({sommet})\n",
    "                correspondance[sommet] = correspondance[attracteur]\n",
    "                clusters[correspondance[sommet]] = clusters[correspondance[attracteur]].union({sommet})\n",
    "                \n",
    "    if cpt == 0:\n",
    "        return graphe\n",
    "                  \n",
    "    clusters = {indice: groupe for indice, groupe in clusters.items() if groupe != set()}\n",
    "    \n",
    "    for cluster in clusters.values():\n",
    "        init = list(cluster)[0]\n",
    "        cluster = cluster.difference({init})\n",
    "        while cluster != set():\n",
    "            suivant = list(cluster)[0]\n",
    "            graphe = contraction(init, suivant, graphe)\n",
    "            cluster = cluster.difference({suivant})\n",
    "            init += f\"/{suivant}\"\n",
    "            \n",
    "    return Louvain(graphe, gamma)\n",
    "    "
   ]
  },
  {
   "cell_type": "code",
   "execution_count": 17,
   "id": "0dbdde3e",
   "metadata": {
    "scrolled": true
   },
   "outputs": [
    {
     "data": {
      "text/plain": [
       "{'B/A/E/C': {('B/A/E/C', 10), ('D/G/H', 3), ('M/P/O/J/I/K', 1), ('N/F/L', 2)},\n",
       " 'D/G/H': {('B/A/E/C', 3), ('D/G/H', 4), ('N/F/L', 2)},\n",
       " 'M/P/O/J/I/K': {('B/A/E/C', 1), ('M/P/O/J/I/K', 16), ('N/F/L', 3)},\n",
       " 'N/F/L': {('B/A/E/C', 2), ('D/G/H', 2), ('M/P/O/J/I/K', 3), ('N/F/L', 4)}}"
      ]
     },
     "execution_count": 17,
     "metadata": {},
     "output_type": "execute_result"
    }
   ],
   "source": [
    "Louvain(G)"
   ]
  },
  {
   "cell_type": "code",
   "execution_count": 18,
   "id": "6245c15d",
   "metadata": {},
   "outputs": [
    {
     "data": {
      "text/plain": [
       "{'M/P/L/I/O/N/J/K': {('D/G/H/B/A/E/F/C', 3), ('M/P/L/I/O/N/J/K', 24)},\n",
       " 'D/G/H/B/A/E/F/C': {('D/G/H/B/A/E/F/C', 22), ('M/P/L/I/O/N/J/K', 3)}}"
      ]
     },
     "execution_count": 18,
     "metadata": {},
     "output_type": "execute_result"
    }
   ],
   "source": [
    "Louvain(G, 0.8)"
   ]
  },
  {
   "cell_type": "code",
   "execution_count": 19,
   "id": "d0046c26",
   "metadata": {},
   "outputs": [
    {
     "data": {
      "text/plain": [
       "{'F': {('A/D', 1), ('B/E/C', 1), ('G/H', 1), ('N/L', 1)},\n",
       " 'A/D': {('A/D', 2), ('B/E/C', 2), ('F', 1), ('G/H', 1)},\n",
       " 'B/E/C': {('A/D', 2), ('B/E/C', 4), ('F', 1), ('G/H', 2), ('M/K', 1)},\n",
       " 'G/H': {('A/D', 1), ('B/E/C', 2), ('F', 1), ('G/H', 2), ('N/L', 1)},\n",
       " 'N/L': {('F', 1), ('G/H', 1), ('M/K', 2), ('N/L', 2), ('O/P/I/J', 1)},\n",
       " 'O/P/I/J': {('M/K', 3), ('N/L', 1), ('O/P/I/J', 8)},\n",
       " 'M/K': {('B/E/C', 1), ('M/K', 2), ('N/L', 2), ('O/P/I/J', 3)}}"
      ]
     },
     "execution_count": 19,
     "metadata": {},
     "output_type": "execute_result"
    }
   ],
   "source": [
    "Louvain(G, 1.8)"
   ]
  },
  {
   "cell_type": "code",
   "execution_count": 20,
   "id": "be8873b8",
   "metadata": {},
   "outputs": [
    {
     "data": {
      "text/html": [
       "<div>\n",
       "<style scoped>\n",
       "    .dataframe tbody tr th:only-of-type {\n",
       "        vertical-align: middle;\n",
       "    }\n",
       "\n",
       "    .dataframe tbody tr th {\n",
       "        vertical-align: top;\n",
       "    }\n",
       "\n",
       "    .dataframe thead th {\n",
       "        text-align: right;\n",
       "    }\n",
       "</style>\n",
       "<table border=\"1\" class=\"dataframe\">\n",
       "  <thead>\n",
       "    <tr style=\"text-align: right;\">\n",
       "      <th></th>\n",
       "      <th>P1</th>\n",
       "      <th>P2</th>\n",
       "    </tr>\n",
       "  </thead>\n",
       "  <tbody>\n",
       "    <tr>\n",
       "      <th>0</th>\n",
       "      <td>142</td>\n",
       "      <td>850399</td>\n",
       "    </tr>\n",
       "    <tr>\n",
       "      <th>1</th>\n",
       "      <td>142</td>\n",
       "      <td>850500</td>\n",
       "    </tr>\n",
       "    <tr>\n",
       "      <th>2</th>\n",
       "      <td>142</td>\n",
       "      <td>851572</td>\n",
       "    </tr>\n",
       "    <tr>\n",
       "      <th>3</th>\n",
       "      <td>142</td>\n",
       "      <td>853494</td>\n",
       "    </tr>\n",
       "    <tr>\n",
       "      <th>4</th>\n",
       "      <td>142</td>\n",
       "      <td>855159</td>\n",
       "    </tr>\n",
       "    <tr>\n",
       "      <th>...</th>\n",
       "      <td>...</td>\n",
       "      <td>...</td>\n",
       "    </tr>\n",
       "    <tr>\n",
       "      <th>229691</th>\n",
       "      <td>9164967</td>\n",
       "      <td>856237</td>\n",
       "    </tr>\n",
       "    <tr>\n",
       "      <th>229692</th>\n",
       "      <td>9164967</td>\n",
       "      <td>856459</td>\n",
       "    </tr>\n",
       "    <tr>\n",
       "      <th>229693</th>\n",
       "      <td>9164977</td>\n",
       "      <td>850883</td>\n",
       "    </tr>\n",
       "    <tr>\n",
       "      <th>229694</th>\n",
       "      <td>9164990</td>\n",
       "      <td>851529</td>\n",
       "    </tr>\n",
       "    <tr>\n",
       "      <th>229695</th>\n",
       "      <td>100009298</td>\n",
       "      <td>852088</td>\n",
       "    </tr>\n",
       "  </tbody>\n",
       "</table>\n",
       "<p>229696 rows × 2 columns</p>\n",
       "</div>"
      ],
      "text/plain": [
       "               P1      P2\n",
       "0             142  850399\n",
       "1             142  850500\n",
       "2             142  851572\n",
       "3             142  853494\n",
       "4             142  855159\n",
       "...           ...     ...\n",
       "229691    9164967  856237\n",
       "229692    9164967  856459\n",
       "229693    9164977  850883\n",
       "229694    9164990  851529\n",
       "229695  100009298  852088\n",
       "\n",
       "[229696 rows x 2 columns]"
      ]
     },
     "execution_count": 20,
     "metadata": {},
     "output_type": "execute_result"
    }
   ],
   "source": [
    "interactome = pd.read_csv(\"Saccharomyces cerevisiae/interactome.txt\", sep=\"\\t\")\n",
    "interactome"
   ]
  },
  {
   "cell_type": "code",
   "execution_count": 33,
   "id": "8ed81121",
   "metadata": {
    "scrolled": false
   },
   "outputs": [],
   "source": [
    "sommets = {g for g in interactome[\"P1\"]}.union({g for g in interactome[\"P2\"]})\n",
    "G = {str(g): set() for g in sommets}\n",
    "\n",
    "for interaction in interactome.itertuples():\n",
    "    G[str(interaction.P1)] = G[str(interaction.P1)].union({(str(interaction.P2), 1)})\n",
    "    G[str(interaction.P2)] = G[str(interaction.P2)].union({(str(interaction.P1), 1)})"
   ]
  },
  {
   "cell_type": "code",
   "execution_count": 27,
   "id": "270c9a18",
   "metadata": {},
   "outputs": [
    {
     "ename": "KeyboardInterrupt",
     "evalue": "",
     "output_type": "error",
     "traceback": [
      "\u001b[1;31m---------------------------------------------------------------------------\u001b[0m",
      "\u001b[1;31mKeyboardInterrupt\u001b[0m                         Traceback (most recent call last)",
      "\u001b[1;32m~\\AppData\\Local\\Temp\\ipykernel_21788\\1729702328.py\u001b[0m in \u001b[0;36m<module>\u001b[1;34m\u001b[0m\n\u001b[1;32m----> 1\u001b[1;33m \u001b[0mLouvain\u001b[0m\u001b[1;33m(\u001b[0m\u001b[0mG\u001b[0m\u001b[1;33m,\u001b[0m \u001b[1;36m0.35\u001b[0m\u001b[1;33m)\u001b[0m\u001b[1;33m\u001b[0m\u001b[1;33m\u001b[0m\u001b[0m\n\u001b[0m",
      "\u001b[1;32m~\\AppData\\Local\\Temp\\ipykernel_21788\\743365543.py\u001b[0m in \u001b[0;36mLouvain\u001b[1;34m(graphe, gamma)\u001b[0m\n\u001b[0;32m     69\u001b[0m                 \u001b[1;32mif\u001b[0m \u001b[0marete\u001b[0m\u001b[1;33m[\u001b[0m\u001b[1;36m0\u001b[0m\u001b[1;33m]\u001b[0m \u001b[1;33m!=\u001b[0m \u001b[0msommet\u001b[0m\u001b[1;33m:\u001b[0m\u001b[1;33m\u001b[0m\u001b[1;33m\u001b[0m\u001b[0m\n\u001b[0;32m     70\u001b[0m \u001b[1;33m\u001b[0m\u001b[0m\n\u001b[1;32m---> 71\u001b[1;33m                     \u001b[0mdelta_q\u001b[0m \u001b[1;33m=\u001b[0m \u001b[0mgain_modularite\u001b[0m\u001b[1;33m(\u001b[0m\u001b[0msommet\u001b[0m\u001b[1;33m,\u001b[0m \u001b[0marete\u001b[0m\u001b[1;33m[\u001b[0m\u001b[1;36m0\u001b[0m\u001b[1;33m]\u001b[0m\u001b[1;33m,\u001b[0m \u001b[0mgraphe\u001b[0m\u001b[1;33m,\u001b[0m \u001b[0mclusters\u001b[0m\u001b[1;33m,\u001b[0m \u001b[0mcorrespondance\u001b[0m\u001b[1;33m,\u001b[0m \u001b[0mgamma\u001b[0m\u001b[1;33m)\u001b[0m\u001b[1;33m\u001b[0m\u001b[1;33m\u001b[0m\u001b[0m\n\u001b[0m\u001b[0;32m     72\u001b[0m \u001b[1;33m\u001b[0m\u001b[0m\n\u001b[0;32m     73\u001b[0m                     \u001b[1;32mif\u001b[0m \u001b[0mdelta_q\u001b[0m \u001b[1;33m>\u001b[0m \u001b[0mmax_local\u001b[0m\u001b[1;33m:\u001b[0m\u001b[1;33m\u001b[0m\u001b[1;33m\u001b[0m\u001b[0m\n",
      "\u001b[1;32m~\\AppData\\Local\\Temp\\ipykernel_21788\\743365543.py\u001b[0m in \u001b[0;36mgain_modularite\u001b[1;34m(sommet, voisin, graphe, clusters, correspondance, gamma)\u001b[0m\n\u001b[0;32m     21\u001b[0m         \u001b[0mm\u001b[0m \u001b[1;33m=\u001b[0m \u001b[1;36m0\u001b[0m\u001b[1;33m\u001b[0m\u001b[1;33m\u001b[0m\u001b[0m\n\u001b[0;32m     22\u001b[0m         \u001b[1;32mfor\u001b[0m \u001b[0ms1\u001b[0m \u001b[1;32min\u001b[0m \u001b[0mgraphe\u001b[0m\u001b[1;33m:\u001b[0m\u001b[1;33m\u001b[0m\u001b[1;33m\u001b[0m\u001b[0m\n\u001b[1;32m---> 23\u001b[1;33m             \u001b[0mm\u001b[0m \u001b[1;33m+=\u001b[0m \u001b[0msum\u001b[0m\u001b[1;33m(\u001b[0m\u001b[0mlist\u001b[0m\u001b[1;33m(\u001b[0m\u001b[0marete\u001b[0m\u001b[1;33m[\u001b[0m\u001b[1;36m1\u001b[0m\u001b[1;33m]\u001b[0m \u001b[1;32mfor\u001b[0m \u001b[0marete\u001b[0m \u001b[1;32min\u001b[0m \u001b[0mgraphe\u001b[0m\u001b[1;33m[\u001b[0m\u001b[0ms1\u001b[0m\u001b[1;33m]\u001b[0m\u001b[1;33m)\u001b[0m\u001b[1;33m)\u001b[0m\u001b[1;33m\u001b[0m\u001b[1;33m\u001b[0m\u001b[0m\n\u001b[0m\u001b[0;32m     24\u001b[0m         \u001b[0mm\u001b[0m \u001b[1;33m/=\u001b[0m \u001b[1;36m2\u001b[0m\u001b[1;33m\u001b[0m\u001b[1;33m\u001b[0m\u001b[0m\n\u001b[0;32m     25\u001b[0m \u001b[1;33m\u001b[0m\u001b[0m\n",
      "\u001b[1;31mKeyboardInterrupt\u001b[0m: "
     ]
    }
   ],
   "source": [
    "Louvain(G, 4.35)"
   ]
  },
  {
   "cell_type": "code",
   "execution_count": null,
   "id": "480b72fe",
   "metadata": {},
   "outputs": [],
   "source": []
  }
 ],
 "metadata": {
  "kernelspec": {
   "display_name": "Python 3 (ipykernel)",
   "language": "python",
   "name": "python3"
  },
  "language_info": {
   "codemirror_mode": {
    "name": "ipython",
    "version": 3
   },
   "file_extension": ".py",
   "mimetype": "text/x-python",
   "name": "python",
   "nbconvert_exporter": "python",
   "pygments_lexer": "ipython3",
   "version": "3.9.13"
  }
 },
 "nbformat": 4,
 "nbformat_minor": 5
}
