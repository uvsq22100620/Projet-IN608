{
 "cells": [
  {
   "cell_type": "code",
   "execution_count": 7,
   "metadata": {},
   "outputs": [],
   "source": [
    "import networkx as nx"
   ]
  },
  {
   "cell_type": "code",
   "execution_count": 15,
   "metadata": {},
   "outputs": [],
   "source": [
    "def calculer_cliques_avec_poids(dico, taille_minimale):\n",
    "    # Créer un graphe non orienté à partir du dictionnaire\n",
    "    G = nx.Graph()\n",
    "    for noeud, voisins in dico.items():\n",
    "        for voisin, poids in voisins:\n",
    "            G.add_edge(noeud, voisin, weight=poids)\n",
    "\n",
    "    # Calculer toutes les cliques du graphe ayant une taille minimale donnée\n",
    "    cliques = [clique for clique in nx.find_cliques(G) if len(clique) >= taille_minimale]\n",
    "\n",
    "    # Calculer le poids total de chaque clique\n",
    "    cliques_avec_poids = []\n",
    "    for clique in cliques:\n",
    "        poids_total = sum([G[u][v]['weight'] for u, v in nx.complete_graph(clique).edges()])\n",
    "        cliques_avec_poids.append((clique, poids_total))\n",
    "\n",
    "    return cliques_avec_poids\n"
   ]
  },
  {
   "cell_type": "code",
   "execution_count": 29,
   "metadata": {},
   "outputs": [
    {
     "name": "stdout",
     "output_type": "stream",
     "text": [
      "[([0, 1, 2, 3], 7)]\n"
     ]
    }
   ],
   "source": [
    "dico = {0: [(1, 2), (2, 1), (3, 1)], 1: [(0, 2), (2, 1), (3, 1)], 2: [(0, 1), (1, 1), (3, 1)], 3: [(0, 1), (1, 1), (2, 1)], 4: [(5, 1)], 5: [(4, 1)]}\n",
    "taille_minimale = 3\n",
    "cliques_avec_poids = calculer_cliques_avec_poids(dico, taille_minimale)\n",
    "print(cliques_avec_poids)"
   ]
  },
  {
   "cell_type": "code",
   "execution_count": 32,
   "metadata": {},
   "outputs": [],
   "source": [
    "def clique_dans_commu(cliques, communautes):\n",
    "    for clique in cliques:\n",
    "        i = communautes[clique[0][0]]\n",
    "        for noeud in clique[0]:\n",
    "            if communautes[noeud] != i:\n",
    "                return clique, False\n",
    "        return clique, True"
   ]
  },
  {
   "cell_type": "code",
   "execution_count": 33,
   "metadata": {},
   "outputs": [
    {
     "name": "stdout",
     "output_type": "stream",
     "text": [
      "(([0, 1, 2, 3], 7), True)\n"
     ]
    }
   ],
   "source": [
    "communautes = [1, 1, 1, 1, 2, 2]\n",
    "print(clique_dans_commu(cliques_avec_poids, communautes))"
   ]
  }
 ],
 "metadata": {
  "kernelspec": {
   "display_name": "l1-python",
   "language": "python",
   "name": "python3"
  },
  "language_info": {
   "codemirror_mode": {
    "name": "ipython",
    "version": 3
   },
   "file_extension": ".py",
   "mimetype": "text/x-python",
   "name": "python",
   "nbconvert_exporter": "python",
   "pygments_lexer": "ipython3",
   "version": "3.9.7"
  }
 },
 "nbformat": 4,
 "nbformat_minor": 2
}
