{
 "cells": [
  {
   "cell_type": "code",
   "execution_count": 28,
   "metadata": {},
   "outputs": [],
   "source": [
    "import requests\n",
    "from bs4 import BeautifulSoup"
   ]
  },
  {
   "cell_type": "code",
   "execution_count": 54,
   "metadata": {},
   "outputs": [
    {
     "data": {
      "text/plain": [
       "';showgallery=\">'"
      ]
     },
     "execution_count": 54,
     "metadata": {},
     "output_type": "execute_result"
    }
   ],
   "source": [
    "with open(\"table_gene.txt\", \"r\") as fil:\n",
    "    genes = [ligne.split()[1] for ligne in fil]\n",
    "coupe = \";showgallery=\\\">\"\n",
    "coupe"
   ]
  },
  {
   "cell_type": "code",
   "execution_count": 64,
   "metadata": {
    "scrolled": false
   },
   "outputs": [],
   "source": [
    "url = lambda g: f'https://yplp.yeastgenome.org/array_data.php?data_username=&limit=&gene={g}&limit=&data_username=&tbl_id=669523384469120242866&searchwhere=&data_username=&limit=&orderby=&tbl_id=669523384469120242866&showinfos=&resultsperpage=10'\n",
    "localisation = dict()\n",
    "\n",
    "for g in genes:\n",
    "    response = requests.get(url(g))\n",
    "    if response.status_code == 200:\n",
    "        texte = str(response.text)\n",
    "        if coupe in texte:\n",
    "            texte = texte[texte.find(coupe)+len(coupe):]\n",
    "            l1 = texte[texte.find(coupe)+len(coupe):]\n",
    "            l2 = l1[l1.find(coupe)+len(coupe):]\n",
    "            l3 = l2[l2.find(coupe)+len(coupe):]\n",
    "            l1 = l1[:l1.find(\"<\")]\n",
    "            l2 = l2[:l2.find(\"<\")]\n",
    "            l3 = l3[:l3.find(\"<\")]\n",
    "            localisation[g] = [l1, l2, l3]\n",
    "            "
   ]
  },
  {
   "cell_type": "code",
   "execution_count": 65,
   "metadata": {},
   "outputs": [
    {
     "data": {
      "text/plain": [
       "3515"
      ]
     },
     "execution_count": 65,
     "metadata": {},
     "output_type": "execute_result"
    }
   ],
   "source": [
    "len(localisation)"
   ]
  },
  {
   "cell_type": "code",
   "execution_count": 82,
   "metadata": {},
   "outputs": [],
   "source": [
    "with open(\"table_localisations.txt\", 'w') as filout:\n",
    "    texte = \"\"\n",
    "    for g, loc in localisation.items():\n",
    "        if g not in ban:\n",
    "            texte += f\"{g};\"\n",
    "            for l in loc:\n",
    "                if \".\" not in l:\n",
    "                    texte += f\"{l};\"\n",
    "            texte = texte[:-1] + '\\n'\n",
    "    filout.write(texte[:-1])"
   ]
  },
  {
   "cell_type": "code",
   "execution_count": null,
   "metadata": {},
   "outputs": [],
   "source": []
  }
 ],
 "metadata": {
  "kernelspec": {
   "display_name": "Python 3 (ipykernel)",
   "language": "python",
   "name": "python3"
  },
  "language_info": {
   "codemirror_mode": {
    "name": "ipython",
    "version": 3
   },
   "file_extension": ".py",
   "mimetype": "text/x-python",
   "name": "python",
   "nbconvert_exporter": "python",
   "pygments_lexer": "ipython3",
   "version": "3.9.13"
  }
 },
 "nbformat": 4,
 "nbformat_minor": 2
}
