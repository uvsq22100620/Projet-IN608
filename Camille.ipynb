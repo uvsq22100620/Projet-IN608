{
 "cells": [
  {
   "cell_type": "code",
   "execution_count": 8,
   "metadata": {},
   "outputs": [],
   "source": [
    "dico_graphe = {}"
   ]
  },
  {
   "cell_type": "code",
   "execution_count": 1,
   "metadata": {},
   "outputs": [],
   "source": [
    "def TrouveCommunaute(communautes, i):\n",
    "    ''' Renvoie le numero de la communaute du noeud i'''\n",
    "    \n",
    "    return communautes[i]"
   ]
  },
  {
   "cell_type": "code",
   "execution_count": 2,
   "metadata": {},
   "outputs": [],
   "source": [
    "def QuiDansCommunaute(communautes, C):\n",
    "    ''' Renvoie une liste des noeuds appartenant la communauté C'''\n",
    "\n",
    "    commu = []\n",
    "\n",
    "    for n in range(len(communautes)):\n",
    "        if communautes[n] == C:\n",
    "            commu.append(n)\n",
    "    \n",
    "    return commu"
   ]
  },
  {
   "cell_type": "code",
   "execution_count": 3,
   "metadata": {},
   "outputs": [],
   "source": [
    "def TrouveVoisins(dico, i):\n",
    "    ''' Renvoie une liste des voisins du sommet i'''\n",
    "    \n",
    "    l_res = []\n",
    "    v = dico[i]\n",
    "\n",
    "    for j in v:\n",
    "        l_res.append(j[0])\n",
    "\n",
    "    return l_res"
   ]
  },
  {
   "cell_type": "code",
   "execution_count": 4,
   "metadata": {},
   "outputs": [],
   "source": [
    "def AjoutDansCommunaute(communautes, i, C):\n",
    "    ''' Ajoute i à la communauté C dans la liste communautés '''\n",
    "    # communautes est une liste où chaque élément d'indice i est le numéro de la communauté de i\n",
    "\n",
    "    communautes[i] = C\n",
    "    return communautes"
   ]
  },
  {
   "cell_type": "code",
   "execution_count": 5,
   "metadata": {},
   "outputs": [],
   "source": [
    "def MemeCommunaute(communautes, i, j):\n",
    "    ''' Renvoie True si i et j sont dans la même communauté, False sinon'''\n",
    "\n",
    "    if TrouveCommunaute(communautes, i) == TrouveCommunaute(communautes, j):\n",
    "        return True\n",
    "    return False"
   ]
  },
  {
   "cell_type": "markdown",
   "metadata": {},
   "source": [
    "## Calcul du gain de modularité"
   ]
  },
  {
   "cell_type": "code",
   "execution_count": 6,
   "metadata": {},
   "outputs": [],
   "source": [
    "def SommePoidsGraphe(dico):\n",
    "    ''' Calcule la somme des poids du graphe (m) '''\n",
    "\n",
    "    somme = 0\n",
    "    cles = dico.keys()\n",
    "    for c in cles:\n",
    "        voisins = dico[c]\n",
    "        for v in range(len(voisins)):\n",
    "            somme += voisins[v][1]\n",
    "    return somme//2\n",
    "\n",
    "#m = SommePoidsGraphe(dico_graphe)   # appeler la fonction qu'une seule fois"
   ]
  },
  {
   "cell_type": "code",
   "execution_count": 7,
   "metadata": {},
   "outputs": [],
   "source": [
    "def SommeInside(dico, communautes, C:int):\n",
    "    ''' Calcule la somme des poids des arêtes dans la communauté C'''\n",
    "    \n",
    "    noeuds_de_C = QuiDansCommunaute(communautes, C)\n",
    "    somme = 0\n",
    "    \n",
    "    for noeud in noeuds_de_C:\n",
    "        voisins = dico[noeud]\n",
    "        for v in voisins:\n",
    "            if TrouveCommunaute(communautes, v[0]) == C:\n",
    "                somme += v[1]\n",
    "    \n",
    "    return somme//2"
   ]
  },
  {
   "cell_type": "code",
   "execution_count": 8,
   "metadata": {},
   "outputs": [],
   "source": [
    "def SommeTotale(dico, communautes, C:int):\n",
    "    ''' Calcule la somme des poids des arêtes sortant de C (de tous les sommets appartenant à C)'''\n",
    "    \n",
    "    noeuds_de_C = QuiDansCommunaute(communautes, C)\n",
    "    somme = 0\n",
    "    \n",
    "    for noeud in noeuds_de_C:\n",
    "        voisins = dico[noeud]\n",
    "        for v in voisins:\n",
    "            if (v[0] not in noeuds_de_C) or (v[0] > noeud):        # vérifier qu'on a pas déjà compté cette arête\n",
    "                somme += v[1]\n",
    "    \n",
    "    return somme"
   ]
  },
  {
   "cell_type": "code",
   "execution_count": 9,
   "metadata": {},
   "outputs": [],
   "source": [
    "def Ki(dico, i):\n",
    "    ''' Calcule la somme des poids des arêtes sortant (entrant) de i'''\n",
    "    \n",
    "    return len(dico[i])"
   ]
  },
  {
   "cell_type": "code",
   "execution_count": 10,
   "metadata": {},
   "outputs": [],
   "source": [
    "def KiInside(dico, communautes, i):\n",
    "    ''' Calcule la somme des poids des arêtes sortant (entrant) de i, dans sa communauté'''\n",
    "    \n",
    "    somme = 0\n",
    "    tous_voisins = dico[i]\n",
    "\n",
    "    for v in tous_voisins:\n",
    "        if MemeCommunaute(communautes, i, v[0]):\n",
    "            somme += v[1]\n",
    "    \n",
    "    return somme"
   ]
  },
  {
   "cell_type": "code",
   "execution_count": 27,
   "metadata": {},
   "outputs": [],
   "source": [
    "def GainModularite(dico, communautes, m, i:int, j:int):\n",
    "    ''' Calcule le gain de modularité si on ajoute i à la communauté de j'''\n",
    "\n",
    "    C = TrouveCommunaute(communautes, j)\n",
    "    S_in = SommeInside(dico, communautes, C)\n",
    "    k_i_in = KiInside(dico, communautes, i)\n",
    "    S_tot = SommeTotale(dico, communautes, C)\n",
    "    k_i = Ki(dico, i)\n",
    "\n",
    "    Q = (((S_in + 2*k_i_in)/(2*m)) - ((S_tot + k_i)/(2*m))**2) - ((S_in/(2*m)) - (S_tot/(2*m))**2 - (k_i/(2*m))**2)\n",
    "\n",
    "    return Q"
   ]
  },
  {
   "cell_type": "markdown",
   "metadata": {},
   "source": [
    "## Algorithme de Louvain"
   ]
  },
  {
   "cell_type": "code",
   "execution_count": 50,
   "metadata": {},
   "outputs": [],
   "source": [
    "def Louvain1(dico):\n",
    "    ''' Première partie de l'algorithme de Louvain '''\n",
    "\n",
    "    flag_modif = True\n",
    "    m = SommePoidsGraphe(dico)\n",
    "    # Initialisation de la liste communautes : chaque noeud est dans une communauté différente \n",
    "    communautes = [k for k in range(len(dico))]\n",
    "\n",
    "   \n",
    "\n",
    "    while flag_modif == True:\n",
    "        flag_modif = False          # aucune modification n'a encore été faite pour cette itération\n",
    "        for i in range(len(communautes)):        # pour chaque noeud i\n",
    "            max_gain = -1\n",
    "            max_j = -1\n",
    "            voisins_de_i = TrouveVoisins(dico, i)\n",
    "            for j in voisins_de_i:      # pour chaque voisin de i\n",
    "                gain_mod = GainModularite(dico, communautes, m, i, j)      # calcul du gain de modularité\n",
    "                print('i:', i, 'j:', j, 'gain:', gain_mod)\n",
    "                if gain_mod > max_gain:          # /!\\ gérer l'égalité\n",
    "                    max_gain = gain_mod\n",
    "                    max_j = j\n",
    "            if max_gain > 0:        # /!\\ strict ou pas ?\n",
    "                flag_modif = True\n",
    "                communautes = AjoutDansCommunaute(communautes, i, TrouveCommunaute(communautes, max_j))       # ajout de i dans la communauté de j\n",
    "    \n",
    "    return communautes"
   ]
  },
  {
   "cell_type": "markdown",
   "metadata": {},
   "source": [
    "## Tests !"
   ]
  },
  {
   "cell_type": "code",
   "execution_count": 13,
   "metadata": {},
   "outputs": [],
   "source": [
    "# Le graphe test contient 21 sommets et 34 arêtes\n",
    "\n",
    "dico_test = {0:[(1,1)],\n",
    "            1:[(0,1), (2,1)],\n",
    "            2:[(1,1), (3,1), (4,1)],\n",
    "            3:[(2,1), (4,1), (8,1)],\n",
    "            4:[(2,1), (3,1), (5,1), (7,1)],\n",
    "            5:[(4,1), (6,1), (17,1)],\n",
    "            6:[(5,1), (7,1), (19,1)],\n",
    "            7:[(4,1), (6,1), (9,1)],\n",
    "            8:[(3,1)],\n",
    "            9:[(7,1), (10,1), (11,1)],\n",
    "            10:[(9,1), (11,1)],\n",
    "            11:[(9,1), (10,1), (12,1)],\n",
    "            12:[(11,1), (14,1), (17,1), (19,1)],\n",
    "            13:[(14,1), (15,1), (16,1), (19,1)],\n",
    "            14:[(12,1), (13,1), (15,1)],\n",
    "            15:[(13,1), (14,1), (16,1), (17,1)],\n",
    "            16:[(13,1), (15,1), (17,1), (18,1), (20,1)],\n",
    "            17:[(5,1), (12,1), (15,1), (16,1), (18,1)],\n",
    "            18:[(16,1), (17,1), (19,1), (20,1)],\n",
    "            19:[(6,1), (12,1), (13,1), (18,1), (20,1)],\n",
    "            20:[(16,1), (18,1), (19,1)]\n",
    "            }"
   ]
  },
  {
   "cell_type": "code",
   "execution_count": 44,
   "metadata": {},
   "outputs": [],
   "source": [
    "dico_test2 = {0:[(1,1), (2,1), (3,1)],\n",
    "              1:[(0,1), (2,1), (3,1)],\n",
    "              2:[(0,1), (1,1), (3,1)],\n",
    "              3:[(0,1), (1,1), (2,1), (4,1)],\n",
    "              4:[(5,1), (6,1), (7,1), (3,1)],\n",
    "              5:[(4,1), (6,1), (7,1)],\n",
    "              6:[(4,1), (5,1), (7,1)],\n",
    "              7:[(4,1), (5,1), (6,1)],}"
   ]
  },
  {
   "cell_type": "code",
   "execution_count": 14,
   "metadata": {},
   "outputs": [],
   "source": [
    "communautes = [0, 0, 1, 1, 1, 1, 1, 1, 2, 3, 3, 3, 3, 4, 4, 4, 5, 5, 5, 5, 5]"
   ]
  },
  {
   "cell_type": "code",
   "execution_count": 22,
   "metadata": {},
   "outputs": [
    {
     "name": "stdout",
     "output_type": "stream",
     "text": [
      "34\n"
     ]
    }
   ],
   "source": [
    "print(SommePoidsGraphe(dico_test))"
   ]
  },
  {
   "cell_type": "code",
   "execution_count": 28,
   "metadata": {},
   "outputs": [
    {
     "name": "stdout",
     "output_type": "stream",
     "text": [
      "5\n"
     ]
    }
   ],
   "source": [
    "print(Ki(dico_test, 19))"
   ]
  },
  {
   "cell_type": "code",
   "execution_count": 37,
   "metadata": {},
   "outputs": [
    {
     "name": "stdout",
     "output_type": "stream",
     "text": [
      "2\n"
     ]
    }
   ],
   "source": [
    "print(KiInside(dico_test, communautes, 19))"
   ]
  },
  {
   "cell_type": "code",
   "execution_count": 11,
   "metadata": {},
   "outputs": [
    {
     "name": "stdout",
     "output_type": "stream",
     "text": [
      "[0, 1]\n"
     ]
    }
   ],
   "source": [
    "print(QuiDansCommunaute(communautes, 0))"
   ]
  },
  {
   "cell_type": "code",
   "execution_count": 24,
   "metadata": {},
   "outputs": [
    {
     "name": "stdout",
     "output_type": "stream",
     "text": [
      "7\n"
     ]
    }
   ],
   "source": [
    "print(SommeInside(dico_test, communautes, 5))"
   ]
  },
  {
   "cell_type": "code",
   "execution_count": 18,
   "metadata": {},
   "outputs": [
    {
     "name": "stdout",
     "output_type": "stream",
     "text": [
      "True\n"
     ]
    }
   ],
   "source": [
    "print(MemeCommunaute(communautes, 0, 1))"
   ]
  },
  {
   "cell_type": "code",
   "execution_count": 41,
   "metadata": {},
   "outputs": [
    {
     "name": "stdout",
     "output_type": "stream",
     "text": [
      "on aumente la somme car  (8, 3)\n",
      "1\n"
     ]
    }
   ],
   "source": [
    "print(SommeTotale(dico_test, communautes, 2))"
   ]
  },
  {
   "cell_type": "code",
   "execution_count": 29,
   "metadata": {},
   "outputs": [],
   "source": [
    "m=SommePoidsGraphe(dico_test)"
   ]
  },
  {
   "cell_type": "code",
   "execution_count": 30,
   "metadata": {},
   "outputs": [
    {
     "name": "stdout",
     "output_type": "stream",
     "text": [
      "0.03935986159169551\n"
     ]
    }
   ],
   "source": [
    "print(GainModularite(dico_test, communautes, m, 6, 18))"
   ]
  },
  {
   "cell_type": "code",
   "execution_count": 51,
   "metadata": {},
   "outputs": [
    {
     "name": "stdout",
     "output_type": "stream",
     "text": [
      "i: 0 j: 1 gain: -0.026627218934911247\n",
      "i: 0 j: 2 gain: -0.026627218934911247\n",
      "i: 0 j: 3 gain: -0.035502958579881644\n",
      "i: 1 j: 0 gain: -0.026627218934911247\n",
      "i: 1 j: 2 gain: -0.026627218934911247\n",
      "i: 1 j: 3 gain: -0.035502958579881644\n",
      "i: 2 j: 0 gain: -0.026627218934911247\n",
      "i: 2 j: 1 gain: -0.026627218934911247\n",
      "i: 2 j: 3 gain: -0.035502958579881644\n",
      "i: 3 j: 0 gain: -0.035502958579881644\n",
      "i: 3 j: 1 gain: -0.035502958579881644\n",
      "i: 3 j: 2 gain: -0.035502958579881644\n",
      "i: 3 j: 4 gain: -0.04733727810650888\n",
      "i: 4 j: 5 gain: -0.035502958579881644\n",
      "i: 4 j: 6 gain: -0.035502958579881644\n",
      "i: 4 j: 7 gain: -0.035502958579881644\n",
      "i: 4 j: 3 gain: -0.04733727810650888\n",
      "i: 5 j: 4 gain: -0.035502958579881644\n",
      "i: 5 j: 6 gain: -0.026627218934911247\n",
      "i: 5 j: 7 gain: -0.026627218934911247\n",
      "i: 6 j: 4 gain: -0.035502958579881644\n",
      "i: 6 j: 5 gain: -0.026627218934911247\n",
      "i: 6 j: 7 gain: -0.026627218934911247\n",
      "i: 7 j: 4 gain: -0.035502958579881644\n",
      "i: 7 j: 5 gain: -0.026627218934911247\n",
      "i: 7 j: 6 gain: -0.026627218934911247\n",
      "[0, 1, 2, 3, 4, 5, 6, 7]\n"
     ]
    }
   ],
   "source": [
    "print(Louvain1(dico_test2))"
   ]
  },
  {
   "cell_type": "markdown",
   "metadata": {},
   "source": [
    "à régler"
   ]
  },
  {
   "cell_type": "code",
   "execution_count": null,
   "metadata": {},
   "outputs": [],
   "source": []
  }
 ],
 "metadata": {
  "kernelspec": {
   "display_name": "Python 3 (ipykernel)",
   "language": "python",
   "name": "python3"
  },
  "language_info": {
   "codemirror_mode": {
    "name": "ipython",
    "version": 3
   },
   "file_extension": ".py",
   "mimetype": "text/x-python",
   "name": "python",
   "nbconvert_exporter": "python",
   "pygments_lexer": "ipython3",
   "version": "3.9.10"
  }
 },
 "nbformat": 4,
 "nbformat_minor": 2
}
