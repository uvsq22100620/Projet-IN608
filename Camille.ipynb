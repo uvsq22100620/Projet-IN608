{
 "cells": [
  {
   "cell_type": "code",
   "execution_count": 8,
   "metadata": {},
   "outputs": [],
   "source": [
    "dico_graphe = {}"
   ]
  },
  {
   "cell_type": "code",
   "execution_count": 7,
   "metadata": {},
   "outputs": [],
   "source": [
    "def TrouveCommunaute(communautes, i):\n",
    "    ''' Renvoie le numero de la communaute du noeud i'''\n",
    "    pass"
   ]
  },
  {
   "cell_type": "code",
   "execution_count": 20,
   "metadata": {},
   "outputs": [],
   "source": [
    "def TrouveVoisins(dico, i):\n",
    "    ''' Renvoie une liste des voisins du sommet i'''\n",
    "    \n",
    "    l_res = []\n",
    "    v = dico[i]\n",
    "\n",
    "    for j in v:\n",
    "        l_res.append(j[0])\n",
    "\n",
    "    return l_res"
   ]
  },
  {
   "cell_type": "code",
   "execution_count": 25,
   "metadata": {},
   "outputs": [
    {
     "name": "stdout",
     "output_type": "stream",
     "text": [
      "[0, 1, 2]\n"
     ]
    }
   ],
   "source": [
    "d = {3:[(0, 100), (1, 101), (2, 1055)]}\n",
    "print(TrouveVoisins(d,3))"
   ]
  },
  {
   "cell_type": "code",
   "execution_count": 14,
   "metadata": {},
   "outputs": [],
   "source": [
    "def AjoutDansCommunaute(communautes, i, C):\n",
    "    ''' Ajoute i à la communauté C dans la liste communautés '''\n",
    "    # communautes est une liste où chaque élément d'indice i est le numéro de la communauté de i\n",
    "\n",
    "    communautes[i] = C\n",
    "    return communautes"
   ]
  },
  {
   "cell_type": "markdown",
   "metadata": {},
   "source": [
    "## Calcul du gain de modularité"
   ]
  },
  {
   "cell_type": "code",
   "execution_count": 9,
   "metadata": {},
   "outputs": [],
   "source": [
    "def SommePoidsGraphe(dico):\n",
    "    ''' Calcule la somme des poids du graphe (m) '''\n",
    "    pass\n",
    "\n",
    "m = SommePoidsGraphe(dico_graphe)   # appeler la fonction qu'une seule fois"
   ]
  },
  {
   "cell_type": "code",
   "execution_count": 2,
   "metadata": {},
   "outputs": [],
   "source": [
    "def SommeInside(dico, C:int):\n",
    "    ''' Calcule la somme des poids des arêtes dans la communauté C'''\n",
    "    pass"
   ]
  },
  {
   "cell_type": "code",
   "execution_count": 10,
   "metadata": {},
   "outputs": [],
   "source": [
    "def SommeTotale(dico, C:int):\n",
    "    ''' Calcule la somme des poids des arêtes sortant de C (de tous les sommets appartenant à C)'''\n",
    "    pass"
   ]
  },
  {
   "cell_type": "code",
   "execution_count": 5,
   "metadata": {},
   "outputs": [],
   "source": [
    "def Ki(dico, i):\n",
    "    ''' Calcule la somme des poids des arêtes sortant (entrant) de i'''\n",
    "    pass"
   ]
  },
  {
   "cell_type": "code",
   "execution_count": 6,
   "metadata": {},
   "outputs": [],
   "source": [
    "def KiInside(dico, i, C):\n",
    "    ''' Calcule la somme des poids des arêtes sortant (entrant) de i, dans C'''\n",
    "    pass"
   ]
  },
  {
   "cell_type": "code",
   "execution_count": 12,
   "metadata": {},
   "outputs": [],
   "source": [
    "def GainModularite(dico, i:int, j:int):\n",
    "    ''' Calcule le gain de modularité si on ajoute i à la communauté de j'''\n",
    "\n",
    "    C = TrouveCommunaute(j)\n",
    "    S_in = SommeInside(dico, C)\n",
    "    k_i_in = KiInside(dico, i, C)\n",
    "    S_tot = SommeTotale(dico, C)\n",
    "    k_i = Ki(dico, i)\n",
    "\n",
    "    Q = (((S_in + 2*k_i_in)/(2*m)) - ((S_tot + k_i)/(2*m))**2) - ((S_in/(2*m)) - (S_tot/(2*m))**2 - (k_i/(2*m))**2)\n",
    "\n",
    "    return Q"
   ]
  },
  {
   "cell_type": "markdown",
   "metadata": {},
   "source": [
    "## Algorithme de Louvain"
   ]
  },
  {
   "cell_type": "code",
   "execution_count": null,
   "metadata": {},
   "outputs": [],
   "source": [
    "def Louvain1(dico):\n",
    "    ''' Première partie de l'algorithme de Louvain '''\n",
    "\n",
    "    flag_modif = True\n",
    "    # Initialisation de la liste communautes : chaque noeud est dans une communauté différente \n",
    "    communautes = [k for k in range(len(dico))]\n",
    "   \n",
    "\n",
    "    while flag_modif == True:\n",
    "        flag_modif = False          # aucune modification n'a encore été faite pour cette itération\n",
    "        for i in range(communautes):        # pour chaque noeud i\n",
    "            max_gain = -1\n",
    "            max_j = -1\n",
    "            voisins_de_i = TrouveVoisins(dico, i)\n",
    "            for j in voisins_de_i:\n",
    "                gain_mod = GainModularite(i,j)\n",
    "                if gain_mod > max_gain:          # /!\\ gérer l'égalité\n",
    "                    max_gain = gain_mod\n",
    "                    max_j = j\n",
    "            if max_gain > 0:        # /!\\ strict ou pas ?\n",
    "                flag_modif = True\n",
    "                communautes = AjoutDansCommunaute(communautes, i, TrouveCommunaute(communautes, max_j))       # ajout de i dans la communauté de j"
   ]
  }
 ],
 "metadata": {
  "kernelspec": {
   "display_name": "base",
   "language": "python",
   "name": "python3"
  },
  "language_info": {
   "codemirror_mode": {
    "name": "ipython",
    "version": 3
   },
   "file_extension": ".py",
   "mimetype": "text/x-python",
   "name": "python",
   "nbconvert_exporter": "python",
   "pygments_lexer": "ipython3",
   "version": "3.9.10"
  }
 },
 "nbformat": 4,
 "nbformat_minor": 2
}
