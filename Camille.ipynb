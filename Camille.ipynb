{
 "cells": [
  {
   "cell_type": "code",
   "execution_count": 8,
   "metadata": {},
   "outputs": [],
   "source": [
    "dico_graphe = {}"
   ]
  },
  {
   "cell_type": "code",
   "execution_count": 44,
   "metadata": {},
   "outputs": [],
   "source": [
    "def TrouveCommunaute(communautes, i):\n",
    "    ''' Renvoie le numero de la communaute du noeud i'''\n",
    "    \n",
    "    return communautes[i]"
   ]
  },
  {
   "cell_type": "code",
   "execution_count": 45,
   "metadata": {},
   "outputs": [],
   "source": [
    "def QuiDansCommunaute(communautes, C):\n",
    "    ''' Renvoie une liste des noeuds appartenant la communauté C'''\n",
    "\n",
    "    commu = []\n",
    "\n",
    "    for n in range(len(communautes)):\n",
    "        if communautes[n] == C:\n",
    "            commu.append(n)\n",
    "    \n",
    "    return commu"
   ]
  },
  {
   "cell_type": "code",
   "execution_count": 46,
   "metadata": {},
   "outputs": [],
   "source": [
    "def TrouveVoisins(dico, i):\n",
    "    ''' Renvoie une liste des voisins du sommet i'''\n",
    "    \n",
    "    l_res = []\n",
    "    v = dico[i]\n",
    "\n",
    "    for j in v:\n",
    "        l_res.append(j[0])\n",
    "\n",
    "    return l_res"
   ]
  },
  {
   "cell_type": "code",
   "execution_count": 47,
   "metadata": {},
   "outputs": [],
   "source": [
    "def AjoutDansCommunaute(communautes, i, C):\n",
    "    ''' Ajoute i à la communauté C dans la liste communautés '''\n",
    "    # communautes est une liste où chaque élément d'indice i est le numéro de la communauté de i\n",
    "\n",
    "    communautes[i] = C\n",
    "    return communautes"
   ]
  },
  {
   "cell_type": "code",
   "execution_count": 48,
   "metadata": {},
   "outputs": [],
   "source": [
    "def MemeCommunaute(communautes, i, j):\n",
    "    ''' Renvoie True si i et j sont dans la même communauté, False sinon'''\n",
    "\n",
    "    if TrouveCommunaute(communautes, i) == TrouveCommunaute(communautes, j):\n",
    "        return True\n",
    "    return False"
   ]
  },
  {
   "cell_type": "markdown",
   "metadata": {},
   "source": [
    "## Calcul du gain de modularité"
   ]
  },
  {
   "cell_type": "code",
   "execution_count": 49,
   "metadata": {},
   "outputs": [],
   "source": [
    "def SommePoidsGraphe(dico):\n",
    "    ''' Calcule la somme des poids du graphe (m) '''\n",
    "\n",
    "    somme = 0\n",
    "    cles = dico.keys()\n",
    "    for c in cles:\n",
    "        voisins = dico[c]\n",
    "        for v in range(len(voisins)):\n",
    "            somme += voisins[v][1]\n",
    "    return somme//2\n",
    "\n",
    "#m = SommePoidsGraphe(dico_graphe)   # appeler la fonction qu'une seule fois"
   ]
  },
  {
   "cell_type": "code",
   "execution_count": 50,
   "metadata": {},
   "outputs": [],
   "source": [
    "def SommeInside(dico, communautes, C:int):\n",
    "    ''' Calcule la somme des poids des arêtes dans la communauté C'''\n",
    "    \n",
    "    noeuds_de_C = QuiDansCommunaute(communautes, C)\n",
    "    somme = 0\n",
    "    \n",
    "    for noeud in noeuds_de_C:\n",
    "        voisins = dico[noeud]\n",
    "        for v in voisins:\n",
    "            if TrouveCommunaute(communautes, v[0]) == C:\n",
    "                somme += v[1]\n",
    "    \n",
    "    return somme//2"
   ]
  },
  {
   "cell_type": "code",
   "execution_count": 51,
   "metadata": {},
   "outputs": [],
   "source": [
    "def SommeTotale(dico, communautes, C:int):\n",
    "    ''' Calcule la somme des poids des arêtes sortant de C (de tous les sommets appartenant à C)'''\n",
    "    \n",
    "    noeuds_de_C = QuiDansCommunaute(communautes, C)\n",
    "    somme = 0\n",
    "    \n",
    "    for noeud in noeuds_de_C:\n",
    "        voisins = dico[noeud]\n",
    "        for v in voisins:\n",
    "            if (v[0] not in noeuds_de_C) or (v[0] > noeud):        # vérifier qu'on a pas déjà compté cette arête\n",
    "                somme += v[1]\n",
    "    \n",
    "    return somme"
   ]
  },
  {
   "cell_type": "code",
   "execution_count": 52,
   "metadata": {},
   "outputs": [],
   "source": [
    "def Ki(dico, i):\n",
    "    ''' Calcule la somme des poids des arêtes sortant (entrant) de i'''\n",
    "    \n",
    "    return len(dico[i])"
   ]
  },
  {
   "cell_type": "code",
   "execution_count": 53,
   "metadata": {},
   "outputs": [],
   "source": [
    "def KiInside(dico, communautes, i):\n",
    "    ''' Calcule la somme des poids des arêtes sortant (entrant) de i, dans sa communauté'''\n",
    "    \n",
    "    somme = 0\n",
    "    tous_voisins = dico[i]\n",
    "\n",
    "    for v in tous_voisins:\n",
    "        if MemeCommunaute(communautes, i, v[0]):\n",
    "            somme += v[1]\n",
    "    \n",
    "    return somme"
   ]
  },
  {
   "cell_type": "code",
   "execution_count": 59,
   "metadata": {},
   "outputs": [],
   "source": [
    "def GainModularite(dico, communautes, i:int, j:int):\n",
    "    ''' Calcule le gain de modularité si on ajoute i à la communauté de j'''\n",
    "\n",
    "    C = TrouveCommunaute(communautes, j)\n",
    "    S_in = SommeInside(dico, communautes, C)\n",
    "    k_i_in = KiInside(dico, i, C)\n",
    "    S_tot = SommeTotale(dico, communautes, C)\n",
    "    k_i = Ki(dico, i)\n",
    "\n",
    "    Q = (((S_in + 2*k_i_in)/(2*m)) - ((S_tot + k_i)/(2*m))**2) - ((S_in/(2*m)) - (S_tot/(2*m))**2 - (k_i/(2*m))**2)\n",
    "\n",
    "    return Q"
   ]
  },
  {
   "cell_type": "markdown",
   "metadata": {},
   "source": [
    "## Algorithme de Louvain"
   ]
  },
  {
   "cell_type": "code",
   "execution_count": null,
   "metadata": {},
   "outputs": [],
   "source": [
    "def Louvain1(dico):\n",
    "    ''' Première partie de l'algorithme de Louvain '''\n",
    "\n",
    "    flag_modif = True\n",
    "    # Initialisation de la liste communautes : chaque noeud est dans une communauté différente \n",
    "    communautes = [k for k in range(len(dico))]\n",
    "   \n",
    "\n",
    "    while flag_modif == True:\n",
    "        flag_modif = False          # aucune modification n'a encore été faite pour cette itération\n",
    "        for i in range(communautes):        # pour chaque noeud i\n",
    "            max_gain = -1\n",
    "            max_j = -1\n",
    "            voisins_de_i = TrouveVoisins(dico, i)\n",
    "            for j in voisins_de_i:\n",
    "                gain_mod = GainModularite(i,j)\n",
    "                if gain_mod > max_gain:          # /!\\ gérer l'égalité\n",
    "                    max_gain = gain_mod\n",
    "                    max_j = j\n",
    "            if max_gain > 0:        # /!\\ strict ou pas ?\n",
    "                flag_modif = True\n",
    "                communautes = AjoutDansCommunaute(communautes, i, TrouveCommunaute(communautes, max_j))       # ajout de i dans la communauté de j"
   ]
  },
  {
   "cell_type": "markdown",
   "metadata": {},
   "source": [
    "## Tests !"
   ]
  },
  {
   "cell_type": "code",
   "execution_count": 55,
   "metadata": {},
   "outputs": [],
   "source": [
    "# Le graphe test contient 21 sommets et 34 arêtes\n",
    "\n",
    "dico_test = {0:[(1,1)],\n",
    "            1:[(0,1), (2,1)],\n",
    "            2:[(1,1), (3,1), (4,1)],\n",
    "            3:[(2,1), (4,1), (8,1)],\n",
    "            4:[(2,1), (3,1), (5,1), (7,1)],\n",
    "            5:[(4,1), (6,1), (17,1)],\n",
    "            6:[(5,1), (7,1), (19,1)],\n",
    "            7:[(4,1), (6,1), (9,1)],\n",
    "            8:[(3,1)],\n",
    "            9:[(7,1), (10,1), (11,1)],\n",
    "            10:[(9,1), (11,1)],\n",
    "            11:[(9,1), (10,1), (12,1)],\n",
    "            12:[(11,1), (14,1), (17,1), (19,1)],\n",
    "            13:[(14,1), (15,1), (16,1), (19,1)],\n",
    "            14:[(12,1), (13,1), (15,1)],\n",
    "            15:[(13,1), (14,1), (16,1), (17,1)],\n",
    "            16:[(13,1), (15,1), (17,1), (18,1), (20,1)],\n",
    "            17:[(5,1), (12,1), (15,1), (16,1), (18,1)],\n",
    "            18:[(16,1), (17,1), (19,1), (20,1)],\n",
    "            19:[(6,1), (12,1), (13,1), (18,1), (20,1)],\n",
    "            20:[(16,1), (18,1), (19,1)]\n",
    "            }"
   ]
  },
  {
   "cell_type": "code",
   "execution_count": 56,
   "metadata": {},
   "outputs": [],
   "source": [
    "communautes = [0, 0, 1, 1, 1, 1, 1, 1, 2, 3, 3, 3, 3, 4, 4, 4, 5, 5, 5, 5, 5]"
   ]
  },
  {
   "cell_type": "code",
   "execution_count": 22,
   "metadata": {},
   "outputs": [
    {
     "name": "stdout",
     "output_type": "stream",
     "text": [
      "34\n"
     ]
    }
   ],
   "source": [
    "print(SommePoidsGraphe(dico_test))"
   ]
  },
  {
   "cell_type": "code",
   "execution_count": 28,
   "metadata": {},
   "outputs": [
    {
     "name": "stdout",
     "output_type": "stream",
     "text": [
      "5\n"
     ]
    }
   ],
   "source": [
    "print(Ki(dico_test, 19))"
   ]
  },
  {
   "cell_type": "code",
   "execution_count": 37,
   "metadata": {},
   "outputs": [
    {
     "name": "stdout",
     "output_type": "stream",
     "text": [
      "2\n"
     ]
    }
   ],
   "source": [
    "print(KiInside(dico_test, communautes, 19))"
   ]
  },
  {
   "cell_type": "code",
   "execution_count": 11,
   "metadata": {},
   "outputs": [
    {
     "name": "stdout",
     "output_type": "stream",
     "text": [
      "[0, 1]\n"
     ]
    }
   ],
   "source": [
    "print(QuiDansCommunaute(communautes, 0))"
   ]
  },
  {
   "cell_type": "code",
   "execution_count": 24,
   "metadata": {},
   "outputs": [
    {
     "name": "stdout",
     "output_type": "stream",
     "text": [
      "7\n"
     ]
    }
   ],
   "source": [
    "print(SommeInside(dico_test, communautes, 5))"
   ]
  },
  {
   "cell_type": "code",
   "execution_count": 41,
   "metadata": {},
   "outputs": [
    {
     "name": "stdout",
     "output_type": "stream",
     "text": [
      "on aumente la somme car  (8, 3)\n",
      "1\n"
     ]
    }
   ],
   "source": [
    "print(SommeTotale(dico_test, communautes, 2))"
   ]
  },
  {
   "cell_type": "markdown",
   "metadata": {},
   "source": [
    "à régler"
   ]
  },
  {
   "cell_type": "code",
   "execution_count": 60,
   "metadata": {},
   "outputs": [
    {
     "ename": "TypeError",
     "evalue": "'int' object is not subscriptable",
     "output_type": "error",
     "traceback": [
      "\u001b[1;31m---------------------------------------------------------------------------\u001b[0m",
      "\u001b[1;31mTypeError\u001b[0m                                 Traceback (most recent call last)",
      "Input \u001b[1;32mIn [60]\u001b[0m, in \u001b[0;36m<module>\u001b[1;34m\u001b[0m\n\u001b[0;32m      1\u001b[0m m\u001b[38;5;241m=\u001b[39mSommePoidsGraphe(dico_test)\n\u001b[1;32m----> 2\u001b[0m \u001b[38;5;28mprint\u001b[39m(\u001b[43mGainModularite\u001b[49m\u001b[43m(\u001b[49m\u001b[43mdico_test\u001b[49m\u001b[43m,\u001b[49m\u001b[43m \u001b[49m\u001b[43mcommunautes\u001b[49m\u001b[43m,\u001b[49m\u001b[43m \u001b[49m\u001b[38;5;241;43m6\u001b[39;49m\u001b[43m,\u001b[49m\u001b[43m \u001b[49m\u001b[38;5;241;43m18\u001b[39;49m\u001b[43m)\u001b[49m)\n",
      "Input \u001b[1;32mIn [59]\u001b[0m, in \u001b[0;36mGainModularite\u001b[1;34m(dico, communautes, i, j)\u001b[0m\n\u001b[0;32m      4\u001b[0m C \u001b[38;5;241m=\u001b[39m TrouveCommunaute(communautes, j)\n\u001b[0;32m      5\u001b[0m S_in \u001b[38;5;241m=\u001b[39m SommeInside(dico, communautes, C)\n\u001b[1;32m----> 6\u001b[0m k_i_in \u001b[38;5;241m=\u001b[39m \u001b[43mKiInside\u001b[49m\u001b[43m(\u001b[49m\u001b[43mdico\u001b[49m\u001b[43m,\u001b[49m\u001b[43m \u001b[49m\u001b[43mi\u001b[49m\u001b[43m,\u001b[49m\u001b[43m \u001b[49m\u001b[43mC\u001b[49m\u001b[43m)\u001b[49m\n\u001b[0;32m      7\u001b[0m S_tot \u001b[38;5;241m=\u001b[39m SommeTotale(dico, communautes, C)\n\u001b[0;32m      8\u001b[0m k_i \u001b[38;5;241m=\u001b[39m Ki(dico, i)\n",
      "Input \u001b[1;32mIn [53]\u001b[0m, in \u001b[0;36mKiInside\u001b[1;34m(dico, communautes, i)\u001b[0m\n\u001b[0;32m      5\u001b[0m tous_voisins \u001b[38;5;241m=\u001b[39m dico[i]\n\u001b[0;32m      7\u001b[0m \u001b[38;5;28;01mfor\u001b[39;00m v \u001b[38;5;129;01min\u001b[39;00m tous_voisins:\n\u001b[1;32m----> 8\u001b[0m     \u001b[38;5;28;01mif\u001b[39;00m \u001b[43mMemeCommunaute\u001b[49m\u001b[43m(\u001b[49m\u001b[43mcommunautes\u001b[49m\u001b[43m,\u001b[49m\u001b[43m \u001b[49m\u001b[43mi\u001b[49m\u001b[43m,\u001b[49m\u001b[43m \u001b[49m\u001b[43mv\u001b[49m\u001b[43m[\u001b[49m\u001b[38;5;241;43m0\u001b[39;49m\u001b[43m]\u001b[49m\u001b[43m)\u001b[49m:\n\u001b[0;32m      9\u001b[0m         somme \u001b[38;5;241m+\u001b[39m\u001b[38;5;241m=\u001b[39m v[\u001b[38;5;241m1\u001b[39m]\n\u001b[0;32m     11\u001b[0m \u001b[38;5;28;01mreturn\u001b[39;00m somme\n",
      "Input \u001b[1;32mIn [48]\u001b[0m, in \u001b[0;36mMemeCommunaute\u001b[1;34m(communautes, i, j)\u001b[0m\n\u001b[0;32m      1\u001b[0m \u001b[38;5;28;01mdef\u001b[39;00m \u001b[38;5;21mMemeCommunaute\u001b[39m(communautes, i, j):\n\u001b[0;32m      2\u001b[0m     \u001b[38;5;124;03m''' Renvoie True si i et j sont dans la même communauté, False sinon'''\u001b[39;00m\n\u001b[1;32m----> 4\u001b[0m     \u001b[38;5;28;01mif\u001b[39;00m \u001b[43mTrouveCommunaute\u001b[49m\u001b[43m(\u001b[49m\u001b[43mcommunautes\u001b[49m\u001b[43m,\u001b[49m\u001b[43m \u001b[49m\u001b[43mi\u001b[49m\u001b[43m)\u001b[49m \u001b[38;5;241m==\u001b[39m TrouveCommunaute(communautes, j):\n\u001b[0;32m      5\u001b[0m         \u001b[38;5;28;01mreturn\u001b[39;00m \u001b[38;5;28;01mTrue\u001b[39;00m\n\u001b[0;32m      6\u001b[0m     \u001b[38;5;28;01mreturn\u001b[39;00m \u001b[38;5;28;01mFalse\u001b[39;00m\n",
      "Input \u001b[1;32mIn [44]\u001b[0m, in \u001b[0;36mTrouveCommunaute\u001b[1;34m(communautes, i)\u001b[0m\n\u001b[0;32m      1\u001b[0m \u001b[38;5;28;01mdef\u001b[39;00m \u001b[38;5;21mTrouveCommunaute\u001b[39m(communautes, i):\n\u001b[0;32m      2\u001b[0m     \u001b[38;5;124;03m''' Renvoie le numero de la communaute du noeud i'''\u001b[39;00m\n\u001b[1;32m----> 4\u001b[0m     \u001b[38;5;28;01mreturn\u001b[39;00m \u001b[43mcommunautes\u001b[49m\u001b[43m[\u001b[49m\u001b[43mi\u001b[49m\u001b[43m]\u001b[49m\n",
      "\u001b[1;31mTypeError\u001b[0m: 'int' object is not subscriptable"
     ]
    }
   ],
   "source": [
    "#m=SommePoidsGraphe(dico_test)\n",
    "#print(GainModularite(dico_test, communautes, 6, 18))"
   ]
  },
  {
   "cell_type": "code",
   "execution_count": null,
   "metadata": {},
   "outputs": [],
   "source": []
  }
 ],
 "metadata": {
  "kernelspec": {
   "display_name": "base",
   "language": "python",
   "name": "python3"
  },
  "language_info": {
   "codemirror_mode": {
    "name": "ipython",
    "version": 3
   },
   "file_extension": ".py",
   "mimetype": "text/x-python",
   "name": "python",
   "nbconvert_exporter": "python",
   "pygments_lexer": "ipython3",
   "version": "3.9.10"
  }
 },
 "nbformat": 4,
 "nbformat_minor": 2
}
