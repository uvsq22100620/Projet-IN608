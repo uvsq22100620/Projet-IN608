{
 "cells": [
  {
   "cell_type": "code",
   "execution_count": 2,
   "metadata": {},
   "outputs": [],
   "source": [
    "def TrouveCommunaute(communautes, i):\n",
    "    ''' Renvoie le numero de la communaute du noeud i'''\n",
    "    \n",
    "    return communautes[i]"
   ]
  },
  {
   "cell_type": "code",
   "execution_count": 3,
   "metadata": {},
   "outputs": [],
   "source": [
    "def QuiDansCommunaute(communautes, C):\n",
    "    ''' Renvoie une liste des noeuds appartenant la communauté C'''\n",
    "\n",
    "    commu = []\n",
    "\n",
    "    for n in range(len(communautes)):\n",
    "        if communautes[n] == C:\n",
    "            commu.append(n)\n",
    "    \n",
    "    return commu"
   ]
  },
  {
   "cell_type": "code",
   "execution_count": 4,
   "metadata": {},
   "outputs": [],
   "source": [
    "def TrouveVoisins(dico, i):\n",
    "    ''' Renvoie une liste des voisins du sommet i'''\n",
    "    \n",
    "    l_res = []\n",
    "    v = dico[i]\n",
    "\n",
    "    for j in v:\n",
    "        l_res.append(j[0])\n",
    "\n",
    "    return l_res"
   ]
  },
  {
   "cell_type": "code",
   "execution_count": 5,
   "metadata": {},
   "outputs": [],
   "source": [
    "def AjoutDansCommunaute(communautes, i, C):\n",
    "    ''' Ajoute i à la communauté C dans la liste communautés '''\n",
    "    # communautes est une liste où chaque élément d'indice i est le numéro de la communauté de i\n",
    "\n",
    "    communautes[i] = C\n",
    "    return communautes"
   ]
  },
  {
   "cell_type": "code",
   "execution_count": 6,
   "metadata": {},
   "outputs": [],
   "source": [
    "def renommeCommu(commu):\n",
    "    set_commu = list(set(commu))\n",
    "\n",
    "    li_correspondance = [i for i in range(len(set_commu))]\n",
    "\n",
    "    for i in range(len(commu)):\n",
    "        for j in range(len(set_commu)):\n",
    "            if commu[i] == set_commu[j]:\n",
    "                commu[i] = li_correspondance[j]\n",
    "    return commu"
   ]
  },
  {
   "cell_type": "markdown",
   "metadata": {},
   "source": [
    "## Fonctions pour calcul du gain de modularité"
   ]
  },
  {
   "cell_type": "code",
   "execution_count": 7,
   "metadata": {},
   "outputs": [],
   "source": [
    "def Calcul_m(dico):\n",
    "    ''' Calcule la somme des poids du graphe '''\n",
    "    \n",
    "    somme_totale = 0\n",
    "    somme_intermediaire = 0\n",
    "\n",
    "    for sommet, voisins in dico.items():\n",
    "        for v in voisins:\n",
    "            if sommet != v[0]:                      # si ce n'est pas une boucle => on la comptera deux fois\n",
    "                somme_intermediaire += v[1]\n",
    "            else:                                   # si c'est une boucle\n",
    "                somme_totale += v[1]\n",
    "\n",
    "    somme_totale += somme_intermediaire//2\n",
    "\n",
    "    return somme_totale      \n"
   ]
  },
  {
   "cell_type": "code",
   "execution_count": 8,
   "metadata": {},
   "outputs": [],
   "source": [
    "def Calcul_ki(dico, i):\n",
    "    ''' Calcule la somme des poids des arêtes du noeud i'''\n",
    "\n",
    "    ki = 0\n",
    "\n",
    "    for v in dico[i]:\n",
    "        ki += v[1]\n",
    "\n",
    "    return ki"
   ]
  },
  {
   "cell_type": "code",
   "execution_count": 9,
   "metadata": {},
   "outputs": [],
   "source": [
    "def Calcul_S_tot(dico, noeuds_dans_commu, i):\n",
    "    ''' Calcule la somme des poids des arêtes de la communauté testée '''\n",
    "    # noeuds_dans_commu est une liste contenant les numéros des noeuds qui sont dans cette communauté\n",
    "    # i est le noeud testé\n",
    "\n",
    "    S_tot = 0\n",
    "\n",
    "    for n in noeuds_dans_commu:\n",
    "        if n != i:\n",
    "            S_tot += Calcul_ki(dico, n)\n",
    "\n",
    "    return S_tot"
   ]
  },
  {
   "cell_type": "code",
   "execution_count": 10,
   "metadata": {},
   "outputs": [],
   "source": [
    "def Calcul_ki_in(dico, communautes, i, C):\n",
    "    ''' Calcule la somme des poids des arêtes de i vers la communauté C'''\n",
    "\n",
    "    ki_in = 0\n",
    "    voisins = dico[i]\n",
    "\n",
    "    for v in voisins:\n",
    "        if communautes[v[0]] == C:\n",
    "            ki_in += v[1]\n",
    "    \n",
    "    return ki_in\n"
   ]
  },
  {
   "cell_type": "markdown",
   "metadata": {},
   "source": [
    "## Algorithme de Louvain"
   ]
  },
  {
   "cell_type": "code",
   "execution_count": 11,
   "metadata": {},
   "outputs": [],
   "source": [
    "def Louvain_P1(dico):\n",
    "    \n",
    "    flag_modif = True\n",
    "    m = Calcul_m(dico)\n",
    "\n",
    "    # Initialisation de la liste communautes : chaque noeud est dans une communauté différente \n",
    "    communautes = [k for k in range(len(dico))]\n",
    "\n",
    "    while flag_modif == True:       # tant qu'on modifie encore les communautés\n",
    "        flag_modif = False\n",
    "\n",
    "        for noeud in range(len(communautes)):       # pour chaque noeud\n",
    "\n",
    "            liste_voisins = TrouveVoisins(dico, noeud)\n",
    "            max = -1\n",
    "            max_v = -1\n",
    "            \n",
    "            liste_commu_voisins = []\n",
    "            for vo in liste_voisins:            # pour chaque voisin\n",
    "                liste_commu_voisins.append(communautes[vo])         # ajoute dans liste_commu_voisins le numéro de la communauté de ce voisin\n",
    "            \n",
    "            # Calcul de ki\n",
    "            ki = Calcul_ki(dico, noeud)\n",
    "\n",
    "            for v in liste_voisins:     # pour chaque voisin du noeud\n",
    "\n",
    "                if v != noeud:\n",
    "                    n_commu_v = QuiDansCommunaute(communautes, communautes[v])\n",
    "\n",
    "                    # Calcul de ki_in\n",
    "                    ki_in = Calcul_ki_in(dico, communautes, noeud, communautes[v])\n",
    "\n",
    "                    # Calcul de S tot\n",
    "                    S_tot = Calcul_S_tot(dico, n_commu_v, noeud)\n",
    "\n",
    "                    # Calcul du gain\n",
    "                    gain = (1/(2*m))*((2*ki_in) - (S_tot * ki)/m)\n",
    "\n",
    "                    if gain > max:      # si c'est un meilleur gain\n",
    "                        max = gain\n",
    "                        max_v = v\n",
    "            \n",
    "            if (communautes[noeud] != communautes[max_v]) and (max > 0):        # si on doit mettre le noeud dans une communauté différente\n",
    "                AjoutDansCommunaute(communautes, noeud, communautes[max_v])     # on le met dans cette communauté en question\n",
    "                flag_modif = True       # on a modifié\n",
    "\n",
    "    return renommeCommu(communautes)\n",
    "            "
   ]
  },
  {
   "cell_type": "code",
   "execution_count": 12,
   "metadata": {},
   "outputs": [],
   "source": [
    "def Louvain_P2(dico_graphe, communautes):\n",
    "\n",
    "    nouveau_graphe = {}\n",
    "    nb_commu = len(set(communautes))\n",
    "\n",
    "    for elt in range(nb_commu):\n",
    "        li_sommet = []                          #récupère les sommets d'une communauté\n",
    "        for sommet in range(len(communautes)):\n",
    "            if communautes[sommet] == elt :\n",
    "                li_sommet.append(sommet)\n",
    "\n",
    "        poids_sommet_commu = 0                  #variable qui va contenir le poids du sommet (somme des aretes au sein de la commu)\n",
    "        dico_arete_autre_commu = {}             #dico qui va contenir le nb d'aretes d'une commu vers chaque autres commu qui va correspondre au poids de l'arete reliant l'autre commu\n",
    "        \n",
    "        for sommet_commu in li_sommet :\n",
    "            for arete in dico_graphe[sommet_commu]: #parcours les sommets de la commu en cours de traitement\n",
    "                if arete[0] in li_sommet :       #parcours les arete de chaque sommet de la commu\n",
    "                    poids_sommet_commu += arete[1]  #si le sommet relié au sommet en cours de traitement est aussi dans la commu on ajoute le poids de l'arete dans notre variable\n",
    "                else:\n",
    "                    if communautes[arete[0]] not in dico_arete_autre_commu :    #si il n'est pas dans la commu\n",
    "                        dico_arete_autre_commu[communautes[arete[0]]] = arete[1] #si c'est le premier/seul elt connecté à notre commu on ajoute dans le dico la commu associé à son poids\n",
    "                    else :\n",
    "                        dico_arete_autre_commu[communautes[arete[0]]] += arete[1] #sinon on additionne le poids de la nouvelle arete reliant la commu\n",
    "        \n",
    "        for commu, poids in dico_arete_autre_commu.items():     #partie permettant de creer le nouveau graphe\n",
    "            if elt not in nouveau_graphe :                      #si on n'a pas encore traité la commu\n",
    "                nouveau_graphe[elt]=[(elt, poids_sommet_commu)] #on ajoute l'arete qui va sur elle meme permettant d'indiquer le poids du sommet\n",
    "                nouveau_graphe[elt].append((commu, poids))      #on ajoute ensuite les aretes vers l'autre commu en cours de traitement\n",
    "            else : \n",
    "                nouveau_graphe[elt].append((commu, poids))      #on a déjà la commu dans le nouveau graphe, ça veut donc dire qu'on traite les commu suivante vers laquelle il est relié\n",
    "\n",
    "    return nouveau_graphe"
   ]
  },
  {
   "cell_type": "code",
   "execution_count": 23,
   "metadata": {},
   "outputs": [],
   "source": [
    "def Louvain_Final_jusqua2(dico):\n",
    "    ''' Appelle les 2 parties de l'algorithme de Louvain itérativement'''\n",
    "\n",
    "    nouveau_graphe = dico\n",
    "    historique_graphes = [nouveau_graphe]\n",
    "\n",
    "    while len(nouveau_graphe) > 2:\n",
    "        nvelles_communautes = Louvain_P1(nouveau_graphe)\n",
    "        nouveau_graphe = Louvain_P2(nouveau_graphe, nvelles_communautes)\n",
    "        historique_graphes.append(nouveau_graphe)\n",
    "\n",
    "    return historique_graphes\n",
    "    "
   ]
  },
  {
   "cell_type": "code",
   "execution_count": 24,
   "metadata": {},
   "outputs": [],
   "source": [
    "def Louvain_Final_jusqua_pas_diminution(dico):\n",
    "    ''' Appelle les 2 parties de l'algorithme de Louvain itérativement'''\n",
    "\n",
    "    nouveau_graphe = dico\n",
    "    historique_graphes = [nouveau_graphe]\n",
    "\n",
    "    while True:\n",
    "        \n",
    "        nvelles_communautes = Louvain_P1(nouveau_graphe)\n",
    "        nouveau_graphe = Louvain_P2(nouveau_graphe, nvelles_communautes)\n",
    "        \n",
    "        if len(nouveau_graphe) == len(historique_graphes[-1]):\n",
    "            break\n",
    "\n",
    "        historique_graphes.append(nouveau_graphe)\n",
    "\n",
    "    return historique_graphes"
   ]
  },
  {
   "cell_type": "markdown",
   "metadata": {},
   "source": [
    "## Tests !"
   ]
  },
  {
   "cell_type": "code",
   "execution_count": 15,
   "metadata": {},
   "outputs": [],
   "source": [
    "# Le graphe test contient 21 sommets et 34 arêtes\n",
    "\n",
    "dico_test = {0:[(1,1)],\n",
    "            1:[(0,1), (2,1)],\n",
    "            2:[(1,1), (3,1), (4,1)],\n",
    "            3:[(2,1), (4,1), (8,1)],\n",
    "            4:[(2,1), (3,1), (5,1), (7,1)],\n",
    "            5:[(4,1), (6,1), (17,1)],\n",
    "            6:[(5,1), (7,1), (19,1)],\n",
    "            7:[(4,1), (6,1), (9,1)],\n",
    "            8:[(3,1)],\n",
    "            9:[(7,1), (10,1), (11,1)],\n",
    "            10:[(9,1), (11,1)],\n",
    "            11:[(9,1), (10,1), (12,1)],\n",
    "            12:[(11,1), (14,1), (17,1), (19,1)],\n",
    "            13:[(14,1), (15,1), (16,1), (19,1)],\n",
    "            14:[(12,1), (13,1), (15,1)],\n",
    "            15:[(13,1), (14,1), (16,1), (17,1)],\n",
    "            16:[(13,1), (15,1), (17,1), (18,1), (20,1)],\n",
    "            17:[(5,1), (12,1), (15,1), (16,1), (18,1)],\n",
    "            18:[(16,1), (17,1), (19,1), (20,1)],\n",
    "            19:[(6,1), (12,1), (13,1), (18,1), (20,1)],\n",
    "            20:[(16,1), (18,1), (19,1)]\n",
    "            }"
   ]
  },
  {
   "cell_type": "code",
   "execution_count": 16,
   "metadata": {},
   "outputs": [],
   "source": [
    "dico_test2 = {0:[(1,1), (2,1), (3,1)],\n",
    "              1:[(0,1), (2,1), (3,1)],\n",
    "              2:[(0,1), (1,1), (3,1)],\n",
    "              3:[(0,1), (1,1), (2,1), (4,1)],\n",
    "              4:[(5,1), (6,1), (7,1), (3,1)],\n",
    "              5:[(4,1), (6,1), (7,1)],\n",
    "              6:[(4,1), (5,1), (7,1)],\n",
    "              7:[(4,1), (5,1), (6,1)],}"
   ]
  },
  {
   "cell_type": "code",
   "execution_count": 17,
   "metadata": {},
   "outputs": [],
   "source": [
    "dico_SV = {0:[(2,1), (3,1), (4,1), (5,1)],\n",
    "            1:[(2,1), (4,1), (7,1)],\n",
    "            2:[(0,1), (1,1), (4,1), (5,1), (6,1),],\n",
    "            3:[(0,1), (7,1)],\n",
    "            4:[(0,1), (1,1), (2,1), (10,1)],\n",
    "            5:[(0,1), (2,1), (7,1), (11,1)],\n",
    "            6:[(2,1), (7,1), (11,1)],\n",
    "            7:[(1,1), (3,1), (5,1), (6,1)],\n",
    "            8:[(9,1), (10,1), (11,1), (14,1), (15,1)],\n",
    "            9:[(8,1), (12,1), (14,1)],\n",
    "            10:[(4,1), (8,1), (11,1), (12,1), (13,1), (14,1)],\n",
    "            11:[(5,1), (6,1), (8,1), (10,1), (13,1)],\n",
    "            12:[(9,1), (10,1)],\n",
    "            13:[(10,1), (11,1)],\n",
    "            14:[(8,1), (9,1), (10,1)],\n",
    "            15:[(8,1)]}"
   ]
  },
  {
   "cell_type": "code",
   "execution_count": 25,
   "metadata": {},
   "outputs": [
    {
     "name": "stdout",
     "output_type": "stream",
     "text": [
      "test 1\n",
      "{0: [(2, 1), (3, 1), (4, 1), (5, 1)], 1: [(2, 1), (4, 1), (7, 1)], 2: [(0, 1), (1, 1), (4, 1), (5, 1), (6, 1)], 3: [(0, 1), (7, 1)], 4: [(0, 1), (1, 1), (2, 1), (10, 1)], 5: [(0, 1), (2, 1), (7, 1), (11, 1)], 6: [(2, 1), (7, 1), (11, 1)], 7: [(1, 1), (3, 1), (5, 1), (6, 1)], 8: [(9, 1), (10, 1), (11, 1), (14, 1), (15, 1)], 9: [(8, 1), (12, 1), (14, 1)], 10: [(4, 1), (8, 1), (11, 1), (12, 1), (13, 1), (14, 1)], 11: [(5, 1), (6, 1), (8, 1), (10, 1), (13, 1)], 12: [(9, 1), (10, 1)], 13: [(10, 1), (11, 1)], 14: [(8, 1), (9, 1), (10, 1)], 15: [(8, 1)]}\n",
      "{0: [(0, 2), (1, 1), (3, 1), (2, 3)], 1: [(1, 14), (3, 4), (2, 1), (0, 1)], 2: [(2, 16), (0, 3), (1, 1)], 3: [(3, 4), (1, 4), (0, 1)]}\n",
      "{0: [(0, 24), (1, 3)], 1: [(1, 26), (0, 3)]}\n",
      "test 2\n",
      "{0: [(2, 1), (3, 1), (4, 1), (5, 1)], 1: [(2, 1), (4, 1), (7, 1)], 2: [(0, 1), (1, 1), (4, 1), (5, 1), (6, 1)], 3: [(0, 1), (7, 1)], 4: [(0, 1), (1, 1), (2, 1), (10, 1)], 5: [(0, 1), (2, 1), (7, 1), (11, 1)], 6: [(2, 1), (7, 1), (11, 1)], 7: [(1, 1), (3, 1), (5, 1), (6, 1)], 8: [(9, 1), (10, 1), (11, 1), (14, 1), (15, 1)], 9: [(8, 1), (12, 1), (14, 1)], 10: [(4, 1), (8, 1), (11, 1), (12, 1), (13, 1), (14, 1)], 11: [(5, 1), (6, 1), (8, 1), (10, 1), (13, 1)], 12: [(9, 1), (10, 1)], 13: [(10, 1), (11, 1)], 14: [(8, 1), (9, 1), (10, 1)], 15: [(8, 1)]}\n",
      "{0: [(0, 2), (1, 1), (3, 1), (2, 3)], 1: [(1, 14), (3, 4), (2, 1), (0, 1)], 2: [(2, 16), (0, 3), (1, 1)], 3: [(3, 4), (1, 4), (0, 1)]}\n",
      "{0: [(0, 24), (1, 3)], 1: [(1, 26), (0, 3)]}\n",
      "test 3 :  True\n"
     ]
    }
   ],
   "source": [
    "res = Louvain_Final_jusqua2(dico_SV)\n",
    "res2 = Louvain_Final_jusqua_pas_diminution(dico_SV)\n",
    "print('test 1')\n",
    "for d in res:\n",
    "    print(d)\n",
    "print('test 2')\n",
    "for d in res2:\n",
    "    print(d)\n",
    "print('test 3 : ', res==res2)"
   ]
  },
  {
   "cell_type": "code",
   "execution_count": 19,
   "metadata": {},
   "outputs": [],
   "source": [
    "dicoV2 = {0: [(0, 2), (1, 1), (3, 1), (2, 3)], \n",
    "          1: [(1, 14), (3, 4), (2, 1), (0, 1)], \n",
    "          2: [(2, 16), (0, 3), (1, 1)], \n",
    "          3: [(3, 4), (1, 4), (0, 1)]}"
   ]
  },
  {
   "cell_type": "code",
   "execution_count": 20,
   "metadata": {},
   "outputs": [],
   "source": [
    "dicoV3 = {0: [(0,26), (1, 3)],\n",
    "          1: [(1,24), (0,3)]}"
   ]
  }
 ],
 "metadata": {
  "kernelspec": {
   "display_name": "Python 3 (ipykernel)",
   "language": "python",
   "name": "python3"
  },
  "language_info": {
   "codemirror_mode": {
    "name": "ipython",
    "version": 3
   },
   "file_extension": ".py",
   "mimetype": "text/x-python",
   "name": "python",
   "nbconvert_exporter": "python",
   "pygments_lexer": "ipython3",
   "version": "3.9.10"
  }
 },
 "nbformat": 4,
 "nbformat_minor": 2
}
