{
 "cells": [
  {
   "cell_type": "code",
   "execution_count": 12,
   "metadata": {},
   "outputs": [],
   "source": [
    "dico_SV = {0:[(2,1), (3,1), (4,1), (5,1)],\n",
    "            1:[(2,1), (4,1), (7,1)],\n",
    "            2:[(0,1), (1,1), (4,1), (5,1), (6,1),],\n",
    "            3:[(0,1), (7,1)],\n",
    "            4:[(0,1), (1,1), (2,1), (10,1)],\n",
    "            5:[(0,1), (2,1), (7,1), (11,1)],\n",
    "            6:[(2,1), (7,1), (11,1)],\n",
    "            7:[(1,1), (3,1), (5,1), (6,1)],\n",
    "            8:[(9,1), (10,1), (11,1), (14,1), (15,1)],\n",
    "            9:[(8,1), (12,1), (14,1)],\n",
    "            10:[(4,1), (8,1), (11,1), (12,1), (13,1), (14,1)],\n",
    "            11:[(5,1), (6,1), (8,1), (10,1), (13,1)],\n",
    "            12:[(9,1), (10,1)],\n",
    "            13:[(10,1), (11,1)],\n",
    "            14:[(8,1), (9,1), (10,1)],\n",
    "            15:[(8,1)]}"
   ]
  },
  {
   "cell_type": "code",
   "execution_count": 13,
   "metadata": {},
   "outputs": [],
   "source": [
    "dicoV2 = {0: [(0, 2), (1, 1), (3, 1), (2, 3)], \n",
    "          1: [(1, 14), (3, 4), (2, 1), (0, 1)], \n",
    "          2: [(2, 16), (0, 3), (1, 1)], \n",
    "          3: [(3, 4), (1, 4), (0, 1)]}"
   ]
  },
  {
   "cell_type": "code",
   "execution_count": 14,
   "metadata": {},
   "outputs": [],
   "source": [
    "dicoV3 = {0: [(0,26), (1, 3)],\n",
    "          1: [(1,24), (0,3)]}"
   ]
  },
  {
   "cell_type": "code",
   "execution_count": 15,
   "metadata": {},
   "outputs": [],
   "source": [
    "commu_dico1 = [1, 1, 1, 3, 1, 1, 3, 3, 2, 2, 2, 0, 2, 0, 2, 2]"
   ]
  },
  {
   "cell_type": "code",
   "execution_count": 16,
   "metadata": {},
   "outputs": [],
   "source": [
    "import csv"
   ]
  },
  {
   "cell_type": "code",
   "execution_count": 17,
   "metadata": {},
   "outputs": [],
   "source": [
    "def creation_csv_nodes(dico, communautes):\n",
    "\n",
    "    csv_filename_nodes = \"nodes.csv\"\n",
    "\n",
    "    nodes = [node for node in dico]\n",
    "    lignes = []\n",
    "\n",
    "    for noeud in nodes:\n",
    "        lignes.append([noeud, communautes[noeud]])\n",
    "\n",
    "    with open(csv_filename_nodes, 'w', newline='') as csvfile:\n",
    "        # Définir les noms de colonnes\n",
    "        fieldnames = ['Noeud', 'Class']\n",
    "        writer = csv.writer(csvfile)\n",
    "\n",
    "        # Écrire l'en-tête (noms de colonnes) dans le fichier CSV\n",
    "        writer.writerow(fieldnames)\n",
    "\n",
    "        # Écrire les lignes (nœuds et leurs classes) dans le fichier CSV\n",
    "        writer.writerows(lignes)\n",
    "\n",
    "    return\n"
   ]
  },
  {
   "cell_type": "code",
   "execution_count": 18,
   "metadata": {},
   "outputs": [],
   "source": [
    "def creation_csv_edges(dico):\n",
    "\n",
    "    csv_filename_edges = \"edges.csv\"\n",
    "\n",
    "    lignes = []\n",
    "\n",
    "    for source, aretes in dico.items():\n",
    "        for arete in aretes :\n",
    "            lignes.append([source, arete[0], arete[1]])\n",
    "    \n",
    "    with open(csv_filename_edges, 'w', newline='') as csvfile:\n",
    "        # Définir les noms de colonnes\n",
    "        fieldnames = ['Source', 'Target', 'Weight']\n",
    "        writer = csv.writer(csvfile)\n",
    "\n",
    "        # Écrire l'en-tête (noms de colonnes) dans le fichier CSV\n",
    "        writer.writerow(fieldnames)\n",
    "\n",
    "        # Écrire les lignes (nœuds et leurs classes) dans le fichier CSV\n",
    "        writer.writerows(lignes)\n",
    "\n",
    "    return"
   ]
  },
  {
   "cell_type": "code",
   "execution_count": 19,
   "metadata": {},
   "outputs": [
    {
     "name": "stdout",
     "output_type": "stream",
     "text": [
      "None\n"
     ]
    }
   ],
   "source": [
    "print(creation_csv_nodes(dico_SV, commu_dico1))"
   ]
  },
  {
   "cell_type": "code",
   "execution_count": 20,
   "metadata": {},
   "outputs": [
    {
     "name": "stdout",
     "output_type": "stream",
     "text": [
      "None\n"
     ]
    }
   ],
   "source": [
    "print(creation_csv_edges(dico_SV))"
   ]
  },
  {
   "cell_type": "code",
   "execution_count": 21,
   "metadata": {},
   "outputs": [],
   "source": [
    "import ast"
   ]
  },
  {
   "cell_type": "code",
   "execution_count": 22,
   "metadata": {},
   "outputs": [],
   "source": [
    "with open('testAlgo.txt', 'r') as fc:\n",
    "    histo_graphe = fc.readline()\n",
    "    histo_commu = fc.readline()\n",
    "\n",
    "histo_commu2 = ast.literal_eval(histo_commu)\n",
    "histo_graphe2 = ast.literal_eval(histo_graphe)\n",
    "\n"
   ]
  },
  {
   "cell_type": "code",
   "execution_count": 23,
   "metadata": {},
   "outputs": [
    {
     "name": "stdout",
     "output_type": "stream",
     "text": [
      "6 5\n"
     ]
    }
   ],
   "source": [
    "print(len(histo_commu2), len(histo_graphe2))"
   ]
  },
  {
   "cell_type": "markdown",
   "metadata": {},
   "source": [
    "### Affichage du premier graphe sans communautés"
   ]
  },
  {
   "cell_type": "code",
   "execution_count": 24,
   "metadata": {},
   "outputs": [],
   "source": [
    "def creation_csv_nodes_premiergraphe(dico):\n",
    "\n",
    "    csv_filename_nodes = \"nodes.csv\"\n",
    "\n",
    "    nodes = [node for node in dico]\n",
    "    lignes = []\n",
    "\n",
    "    for noeud in nodes:\n",
    "        lignes.append([noeud])\n",
    "\n",
    "    with open(csv_filename_nodes, 'w', newline='') as csvfile:\n",
    "        # Définir les noms de colonnes\n",
    "        fieldnames = ['Noeud']\n",
    "        writer = csv.writer(csvfile)\n",
    "\n",
    "        # Écrire l'en-tête (noms de colonnes) dans le fichier CSV\n",
    "        writer.writerow(fieldnames)\n",
    "\n",
    "        # Écrire les lignes (nœuds et leurs classes) dans le fichier CSV\n",
    "        writer.writerows(lignes)\n",
    "\n",
    "    return\n"
   ]
  },
  {
   "cell_type": "code",
   "execution_count": 25,
   "metadata": {},
   "outputs": [],
   "source": [
    "def creation_csv_edges_premiergraphe(dico):\n",
    "\n",
    "    csv_filename_edges = \"edges.csv\"\n",
    "\n",
    "    lignes = []\n",
    "\n",
    "    for source, aretes in dico.items():\n",
    "        for arete in aretes :\n",
    "            lignes.append([source, arete[0], arete[1]])\n",
    "    \n",
    "    with open(csv_filename_edges, 'w', newline='') as csvfile:\n",
    "        # Définir les noms de colonnes\n",
    "        fieldnames = ['Source', 'Target', 'Weight']\n",
    "        writer = csv.writer(csvfile)\n",
    "\n",
    "        # Écrire l'en-tête (noms de colonnes) dans le fichier CSV\n",
    "        writer.writerow(fieldnames)\n",
    "\n",
    "        # Écrire les lignes (nœuds et leurs classes) dans le fichier CSV\n",
    "        writer.writerows(lignes)\n",
    "\n",
    "    return"
   ]
  },
  {
   "cell_type": "code",
   "execution_count": 26,
   "metadata": {},
   "outputs": [],
   "source": [
    "with open(\"dico_graphe.txt\", 'r') as file:\n",
    "    content = file.read()\n",
    "\n",
    "# eval() permet de convertir la chaîne en un dictionnaire\n",
    "G = eval(content)"
   ]
  },
  {
   "cell_type": "code",
   "execution_count": 27,
   "metadata": {},
   "outputs": [],
   "source": [
    "creation_csv_nodes_premiergraphe(G)"
   ]
  },
  {
   "cell_type": "code",
   "execution_count": 28,
   "metadata": {},
   "outputs": [],
   "source": [
    "creation_csv_edges_premiergraphe(G)"
   ]
  },
  {
   "cell_type": "markdown",
   "metadata": {},
   "source": [
    "### Graphes des iterations suivantes"
   ]
  },
  {
   "cell_type": "code",
   "execution_count": 29,
   "metadata": {},
   "outputs": [],
   "source": [
    "def creation_csv_nodes(list_dico, communautes):\n",
    "\n",
    "    for i in range(len(list_dico)):\n",
    "        csv_filename_nodes = f\"nodes{i}.csv\"\n",
    "\n",
    "        nodes = [node for node in list_dico[i]]\n",
    "        lignes = []\n",
    "\n",
    "        for noeud in nodes:\n",
    "            lignes.append([noeud, communautes[i][noeud]])\n",
    "\n",
    "        with open(csv_filename_nodes, 'w', newline='') as csvfile:\n",
    "            # Définir les noms de colonnes\n",
    "            fieldnames = ['Noeud', 'class']\n",
    "            writer = csv.writer(csvfile)\n",
    "\n",
    "            # Écrire l'en-tête (noms de colonnes) dans le fichier CSV\n",
    "            writer.writerow(fieldnames)\n",
    "\n",
    "            # Écrire les lignes (nœuds et leurs classes) dans le fichier CSV\n",
    "            writer.writerows(lignes)\n",
    "\n",
    "    return"
   ]
  },
  {
   "cell_type": "code",
   "execution_count": 30,
   "metadata": {},
   "outputs": [],
   "source": [
    "creation_csv_nodes(histo_graphe2, histo_commu2[1:])"
   ]
  },
  {
   "cell_type": "code",
   "execution_count": 31,
   "metadata": {},
   "outputs": [],
   "source": [
    "def creation_csv_edges(list_dico):\n",
    "\n",
    "    for i in range(len(list_dico)):\n",
    "        csv_filename_edges = f\"edges{i}.csv\"\n",
    "        lignes = []\n",
    "        for source, aretes in list_dico[i].items():\n",
    "            for arete in aretes :\n",
    "                lignes.append([source, arete[0], arete[1]])\n",
    "        \n",
    "        with open(csv_filename_edges, 'w', newline='') as csvfile:\n",
    "            # Définir les noms de colonnes\n",
    "            fieldnames = ['Source', 'Target', 'Weight']\n",
    "            writer = csv.writer(csvfile)\n",
    "\n",
    "            # Écrire l'en-tête (noms de colonnes) dans le fichier CSV\n",
    "            writer.writerow(fieldnames)\n",
    "\n",
    "            # Écrire les lignes (nœuds et leurs classes) dans le fichier CSV\n",
    "            writer.writerows(lignes)\n",
    "\n",
    "    return"
   ]
  },
  {
   "cell_type": "code",
   "execution_count": 32,
   "metadata": {},
   "outputs": [
    {
     "name": "stdout",
     "output_type": "stream",
     "text": [
      "None\n"
     ]
    }
   ],
   "source": [
    "print(creation_csv_edges(histo_graphe2))"
   ]
  },
  {
   "cell_type": "code",
   "execution_count": null,
   "metadata": {},
   "outputs": [],
   "source": []
  }
 ],
 "metadata": {
  "kernelspec": {
   "display_name": "l1-python",
   "language": "python",
   "name": "python3"
  },
  "language_info": {
   "codemirror_mode": {
    "name": "ipython",
    "version": 3
   },
   "file_extension": ".py",
   "mimetype": "text/x-python",
   "name": "python",
   "nbconvert_exporter": "python",
   "pygments_lexer": "ipython3",
   "version": "3.10.4"
  }
 },
 "nbformat": 4,
 "nbformat_minor": 2
}
