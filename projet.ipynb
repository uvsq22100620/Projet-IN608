{
 "cells": [
  {
   "cell_type": "code",
   "execution_count": 2,
   "id": "83759334",
   "metadata": {},
   "outputs": [],
   "source": [
    "dico_SV = {0:[(2,1), (3,1), (4,1), (5,1)],\n",
    "            1:[(2,1), (4,1), (7,1)],\n",
    "            2:[(0,1), (1,1), (4,1), (5,1), (6,1),],\n",
    "            3:[(0,1), (7,1)],\n",
    "            4:[(0,1), (1,1), (2,1), (10,1)],\n",
    "            5:[(0,1), (2,1), (7,1), (11,1)],\n",
    "            6:[(2,1), (7,1), (11,1)],\n",
    "            7:[(1,1), (3,1), (5,1), (6,1)],\n",
    "            8:[(9,1), (10,1), (11,1), (14,1), (15,1)],\n",
    "            9:[(8,1), (12,1), (14,1)],\n",
    "            10:[(4,1), (8,1), (11,1), (12,1), (13,1), (14,1)],\n",
    "            11:[(5,1), (6,1), (8,1), (10,1), (13,1)],\n",
    "            12:[(9,1), (10,1)],\n",
    "            13:[(10,1), (11,1)],\n",
    "            14:[(8,1), (9,1), (10,1)],\n",
    "            15:[(8,1)]}"
   ]
  },
  {
   "cell_type": "code",
   "execution_count": 3,
   "id": "99679744",
   "metadata": {},
   "outputs": [],
   "source": [
    "dicoV2 = {0: [(0, 2), (1, 1), (3, 1), (2, 3)], \n",
    "          1: [(1, 14), (3, 4), (2, 1), (0, 1)], \n",
    "          2: [(2, 16), (0, 3), (1, 1)], \n",
    "          3: [(3, 4), (1, 4), (0, 1)]}"
   ]
  },
  {
   "cell_type": "code",
   "execution_count": 4,
   "id": "5f5f613a",
   "metadata": {},
   "outputs": [],
   "source": [
    "dicoV3 = {0: [(0,26), (1, 3)],\n",
    "          1: [(1,24), (0,3)]}"
   ]
  },
  {
   "cell_type": "code",
   "execution_count": 5,
   "id": "4861ec01",
   "metadata": {},
   "outputs": [],
   "source": [
    "commu_dico1 = [1, 1, 1, 3, 1, 1, 3, 3, 2, 2, 2, 0, 2, 0, 2, 2]"
   ]
  },
  {
   "cell_type": "code",
   "execution_count": 6,
   "id": "bd2db8da",
   "metadata": {},
   "outputs": [],
   "source": [
    "import csv"
   ]
  },
  {
   "cell_type": "code",
   "execution_count": 23,
   "id": "0e136c91",
   "metadata": {},
   "outputs": [],
   "source": [
    "def creation_csv_nodes(dico, communautes):\n",
    "\n",
    "    csv_filename_nodes = \"nodes.csv\"\n",
    "\n",
    "    nodes = [node for node in dico]\n",
    "    lignes = []\n",
    "\n",
    "    for noeud in nodes:\n",
    "        lignes.append([noeud, communautes[noeud]])\n",
    "\n",
    "    with open(csv_filename_nodes, 'w', newline='') as csvfile:\n",
    "        # Définir les noms de colonnes\n",
    "        fieldnames = ['Noeud', 'Class']\n",
    "        writer = csv.writer(csvfile)\n",
    "\n",
    "        # Écrire l'en-tête (noms de colonnes) dans le fichier CSV\n",
    "        writer.writerow(fieldnames)\n",
    "\n",
    "        # Écrire les lignes (nœuds et leurs classes) dans le fichier CSV\n",
    "        writer.writerows(lignes)\n",
    "\n",
    "    return\n"
   ]
  },
  {
   "cell_type": "code",
   "execution_count": 26,
   "id": "59310061",
   "metadata": {},
   "outputs": [],
   "source": [
    "def creation_csv_edges(dico):\n",
    "\n",
    "    csv_filename_edges = \"edges.csv\"\n",
    "\n",
    "    lignes = []\n",
    "\n",
    "    for source, aretes in dico.items():\n",
    "        for arete in aretes :\n",
    "            lignes.append([source, arete[0], arete[1]])\n",
    "    \n",
    "    with open(csv_filename_edges, 'w', newline='') as csvfile:\n",
    "        # Définir les noms de colonnes\n",
    "        fieldnames = ['Source', 'Target', 'Weight']\n",
    "        writer = csv.writer(csvfile)\n",
    "\n",
    "        # Écrire l'en-tête (noms de colonnes) dans le fichier CSV\n",
    "        writer.writerow(fieldnames)\n",
    "\n",
    "        # Écrire les lignes (nœuds et leurs classes) dans le fichier CSV\n",
    "        writer.writerows(lignes)\n",
    "\n",
    "    return"
   ]
  },
  {
   "cell_type": "code",
   "execution_count": 27,
   "id": "5d7be259",
   "metadata": {},
   "outputs": [
    {
     "name": "stdout",
     "output_type": "stream",
     "text": [
      "None\n"
     ]
    }
   ],
   "source": [
    "print(creation_csv_nodes(dico_SV, commu_dico1))"
   ]
  },
  {
   "cell_type": "code",
   "execution_count": 28,
   "id": "a096e58b",
   "metadata": {},
   "outputs": [
    {
     "name": "stdout",
     "output_type": "stream",
     "text": [
      "None\n"
     ]
    }
   ],
   "source": [
    "print(creation_csv_edges(dico_SV))"
   ]
  },
  {
   "cell_type": "code",
   "execution_count": null,
   "id": "c598f6a8",
   "metadata": {},
   "outputs": [],
   "source": [
    "print(Louvain_P1(dico_SV))"
   ]
  }
 ],
 "metadata": {
  "kernelspec": {
   "display_name": "Python 3 (ipykernel)",
   "language": "python",
   "name": "python3"
  },
  "language_info": {
   "codemirror_mode": {
    "name": "ipython",
    "version": 3
   },
   "file_extension": ".py",
   "mimetype": "text/x-python",
   "name": "python",
   "nbconvert_exporter": "python",
   "pygments_lexer": "ipython3",
   "version": "3.10.4"
  }
 },
 "nbformat": 4,
 "nbformat_minor": 5
}
